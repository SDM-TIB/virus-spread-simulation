{
 "cells": [
  {
   "cell_type": "code",
   "execution_count": 1,
   "metadata": {},
   "outputs": [],
   "source": [
    "import random\n",
    "import matplotlib\n",
    "\n",
    "import numpy as np\n",
    "import pandas as pd\n",
    "import networkx as nx\n",
    "import matplotlib.pyplot as plt\n",
    "\n",
    "from copy import deepcopy\n",
    "from tqdm import tqdm\n",
    "from collections import Counter\n",
    "from scipy.spatial import distance\n",
    "from sklearn.metrics.pairwise import euclidean_distances\n",
    "from IPython.display import clear_output"
   ]
  },
  {
   "cell_type": "code",
   "execution_count": null,
   "metadata": {},
   "outputs": [],
   "source": []
  },
  {
   "cell_type": "code",
   "execution_count": 2,
   "metadata": {},
   "outputs": [],
   "source": [
    "def print_stats(day):\n",
    "    return \"Day:\" + str(day) + \"\\tP:\" + str(len(population)) + \"\\tS:\" + str(get_status(\"free\", True)) + \"\\tI:\" + str(get_status('infected', True)) + \"\\tH:\" + str(len(hospitalised)) + \"\\tC:\" + str(len(cured)) + \"\\tD:\" + str(len(dead)) + \"\\tP+H+D:\" + str(len(population) + len(hospitalised) + len(dead)) + \"\\tprobability:\" + str(round(get_status('infected', True)/len(population), 1))\n"
   ]
  },
  {
   "cell_type": "code",
   "execution_count": 3,
   "metadata": {},
   "outputs": [],
   "source": [
    "def gen_rand_coordinates(n):\n",
    "    x = np.random.randint(low=0, high=2*n, size=n)\n",
    "    y = np.random.randint(low=0, high=2*n, size=n)\n",
    "    \n",
    "    coordinates = [(i, j) for i, j in zip(x, y)]\n",
    "    \n",
    "    return list(set(coordinates)), list(range(len(set(coordinates))))"
   ]
  },
  {
   "cell_type": "code",
   "execution_count": 4,
   "metadata": {},
   "outputs": [],
   "source": [
    "def random_walk(current_position, person, day):\n",
    "    path = []\n",
    "    edges = []\n",
    "    path.append(deepcopy(current_position))\n",
    "    \n",
    "    percentage = 0 #int(len(hospitalised)/2000)\n",
    "    \n",
    "    if day > 15:\n",
    "        percentage = 3\n",
    "    if day > 30:\n",
    "        percentage = 6\n",
    "    \n",
    "    if person['age']>15 and person['age']<60:\n",
    "        m = 40\n",
    "        m_ = int(m/10)\n",
    "        m = m - (m_*percentage)\n",
    "        n = np.random.randint(0, m)\n",
    "        \n",
    "    else:        \n",
    "        m = 30\n",
    "        m_ = int(m/10)\n",
    "        m = m - (m_*percentage)\n",
    "        n = np.random.randint(0, m)\n",
    "        \n",
    "    for i in range(n):\n",
    "        person_neighbours = neighbours[current_position]\n",
    "        if len(person_neighbours) > 0:\n",
    "            next_position = np.random.choice(person_neighbours)\n",
    "            path.append(next_position)\n",
    "            edges.append((current_position, next_position))\n",
    "            current_position = deepcopy(next_position)\n",
    "    return path, edges"
   ]
  },
  {
   "cell_type": "code",
   "execution_count": 5,
   "metadata": {},
   "outputs": [],
   "source": [
    "def random_sample(data, n):\n",
    "    idx = np.random.randint(low=0, high=len(data), size=n)\n",
    "    return [data[i] for i in idx], idx"
   ]
  },
  {
   "cell_type": "code",
   "execution_count": 6,
   "metadata": {},
   "outputs": [],
   "source": [
    "def get_status(state, value):\n",
    "    return Counter([p['state']==state for p in population.values()])[value]"
   ]
  },
  {
   "cell_type": "code",
   "execution_count": 7,
   "metadata": {},
   "outputs": [],
   "source": [
    "def get_p_at(effected=True):\n",
    "    return [p['at'] for p in population.values() if p['state']=='infected']"
   ]
  },
  {
   "cell_type": "code",
   "execution_count": 8,
   "metadata": {},
   "outputs": [],
   "source": [
    "def effect_person(person):\n",
    "    person['state'] = 'infected'\n",
    "    person['incubation_period'] = np.random.randint(low=2, high=12)"
   ]
  },
  {
   "cell_type": "code",
   "execution_count": 9,
   "metadata": {},
   "outputs": [],
   "source": [
    "def plot_plot(rw_normal_edges=None, rw_effected_edges=None, clear=False, iter_=0):\n",
    "    clear_output(wait=clear)\n",
    "    \n",
    "    pop = [p['at'] for i, p in population.items()]\n",
    "    eff = get_p_at()\n",
    "\n",
    "    plt.figure(0, figsize=(25, 25))\n",
    "    \n",
    "    nx.draw_networkx_nodes(G, pos,\n",
    "                           nodelist=pop,\n",
    "                           node_color='blue', node_size=5)\n",
    "\n",
    "    nx.draw_networkx_nodes(G, pos,\n",
    "                           nodelist=eff,\n",
    "                           node_color='r', node_size=50)\n",
    "\n",
    "    nx.draw_networkx_edges(G, pos,\n",
    "                           edgelist=edges,\n",
    "                           width=0.3,alpha=0.3,edge_color='b')\n",
    "\n",
    "    if rw_normal_edges is not None:\n",
    "        nx.draw_networkx_edges(G,pos,\n",
    "                               edgelist=rw_normal_edges,\n",
    "                               width=0.5,alpha=0.3,edge_color='y')\n",
    "\n",
    "        nx.draw_networkx_edges(G,pos,\n",
    "                               edgelist=rw_effected_edges,\n",
    "                               width=2,alpha=0.3,edge_color='red')\n",
    "\n",
    "    nx.draw_networkx(G, pos, node_size=1, with_labels=False)\n",
    "    s = \"Day: \"+str(iter_)+\" | Population: \" + str(len(population)) + \" | Infected: \" + str(get_status('infected', True)) + \" | Hospitalised: \" + str(len(hospitalised)) + \" | Infection Probability: \" + str(round(get_status('infected', True)/len(population), 2)) + \" | Cured: \" + str(len(cured)) + \" | Dead: \" + str(len(dead))\n",
    "    plt.title(s, fontsize=20)\n",
    "    plt.savefig(\"image\"+str(iter_)+\".png\", format=\"PNG\")\n",
    "    plt.show()"
   ]
  },
  {
   "cell_type": "code",
   "execution_count": 10,
   "metadata": {},
   "outputs": [],
   "source": [
    "def is_dead(p):\n",
    "    \n",
    "    all_probs = []\n",
    "    \n",
    "    for i in p['comorbidities']:\n",
    "        if i in comorbidities_deceased:\n",
    "            k = comorbidities_deceased[i]\n",
    "            ps = np.array([100-k, k])/100\n",
    "            all_probs.append(ps)\n",
    "\n",
    "#     if len(prob_comorbidities) > 1:\n",
    "#         print(prob_comorbidities)\n",
    "#         prob_comorbidities = np.array(prob_comorbidities).sum(1)\n",
    "#         print(prob_comorbidities)\n",
    "\n",
    "#             if np.random.choice([False, True], p=ps):\n",
    "#                 return True\n",
    "\n",
    "    age = p['age']\n",
    "    if age <= 40: #age >= 10 and age \n",
    "        prob = 0.2\n",
    "    elif age >= 40 and age <= 49:\n",
    "        prob = 0.4\n",
    "    elif age >= 50 and age <= 59:\n",
    "        prob = 1.3\n",
    "    elif age >= 60 and age <= 69:\n",
    "        prob = 3.6\n",
    "    elif age >= 70 and age <= 79:\n",
    "        prob = 8.0\n",
    "    elif age >= 80:\n",
    "        prob = 14.8\n",
    "\n",
    "    all_probs.append(np.array([100-prob, prob])/100)\n",
    "    \n",
    "    prob_n_comorbidities = n_comorbidities_deceased[p['n_comorbidities']]\n",
    "    all_probs.append(np.array([1-prob_n_comorbidities, prob_n_comorbidities]))\n",
    "    \n",
    "    master_prob = np.array(all_probs).mean(0)\n",
    "\n",
    "#     prob_age = np.random.choice([False, True], p=prob_/100)\n",
    "#     prob_comorbidities = np.random.choice([False, True], p=[1-n, n])\n",
    "\n",
    "#     print(prob_age, prob_comorbidities, master_prob)\n",
    "\n",
    "    master_prob_decision = np.random.choice([False, True], p=master_prob)\n",
    "    \n",
    "    if master_prob_decision:\n",
    "        return True\n",
    "    return False"
   ]
  },
  {
   "cell_type": "code",
   "execution_count": null,
   "metadata": {},
   "outputs": [],
   "source": []
  },
  {
   "cell_type": "code",
   "execution_count": 11,
   "metadata": {},
   "outputs": [],
   "source": [
    "n_days = 100"
   ]
  },
  {
   "cell_type": "code",
   "execution_count": 12,
   "metadata": {},
   "outputs": [],
   "source": [
    "n_nodes = 1000\n",
    "connectivity = 5\n",
    "n_population = n_nodes * 2\n",
    "n_effected_people = 2 #int(n_population/100)\n",
    "\n",
    "contamination_confidence = 100"
   ]
  },
  {
   "cell_type": "code",
   "execution_count": 13,
   "metadata": {},
   "outputs": [],
   "source": [
    "coordinates, coordinates_idx = gen_rand_coordinates(n_nodes)"
   ]
  },
  {
   "cell_type": "code",
   "execution_count": 14,
   "metadata": {},
   "outputs": [],
   "source": [
    "_, p_coord = random_sample(coordinates, n_population)"
   ]
  },
  {
   "cell_type": "code",
   "execution_count": 15,
   "metadata": {},
   "outputs": [],
   "source": [
    "# p_ages = np.random.randint(low=2, high=80, size=n_population)"
   ]
  },
  {
   "cell_type": "code",
   "execution_count": 16,
   "metadata": {},
   "outputs": [],
   "source": [
    "### Germany\n",
    "\n",
    "# 0-14 years: 12.83% (male 5,299,798 /female 5,024,184)\n",
    "# 15-24 years: 9.98% (male 4,092,901 /female 3,933,997)\n",
    "# 25-54 years: 39.87% (male 16,181,931 /female 15,896,528)\n",
    "# 55-64 years: 14.96% (male 5,989,111 /female 6,047,449)\n",
    "# 65 years and over: 22.36% (male 7,930,590 /female 10,061,248) (2018 est.)"
   ]
  },
  {
   "cell_type": "code",
   "execution_count": null,
   "metadata": {},
   "outputs": [],
   "source": []
  },
  {
   "cell_type": "code",
   "execution_count": 17,
   "metadata": {},
   "outputs": [],
   "source": [
    "# Diseases N %\n",
    "# schemic heart disease 145 30.1\n",
    "# Atrial Fibrillation 106 22.0\n",
    "# Stroke 54 11.2\n",
    "# Hypertension 355 73.8\n",
    "# Diabetes 163 33.9\n",
    "# Dementia 57 11.9\n",
    "# COPD 66 13.7\n",
    "# Active cancer in the past 5 years 94 19.5\n",
    "# Chronic liver disease 18 3.7\n",
    "# Chronic renal failure 97 20.2"
   ]
  },
  {
   "cell_type": "code",
   "execution_count": 18,
   "metadata": {},
   "outputs": [],
   "source": [
    "comorbidities_deceased = {'Congestive Heart Failure': 30.1, 'Stroke': 11.2, 'Hypertension': 73.8,\n",
    "                         'Diabetes Mellitus': 33.9, 'Dementia': 11.9, 'Respiratory Disease': 13.7}"
   ]
  },
  {
   "cell_type": "code",
   "execution_count": null,
   "metadata": {},
   "outputs": [],
   "source": []
  },
  {
   "cell_type": "code",
   "execution_count": 19,
   "metadata": {},
   "outputs": [],
   "source": [
    "#  0 comorbidities 6 1.2\n",
    "#  1 comorbidity 113 23.5\n",
    "#  2 comorbidities 128 26.6\n",
    "#  3 comorbidities and over 234 48.6"
   ]
  },
  {
   "cell_type": "code",
   "execution_count": 20,
   "metadata": {},
   "outputs": [],
   "source": [
    "n_comorbidities_deceased = np.array([1.3, 23.5, 26.6, 48.6])"
   ]
  },
  {
   "cell_type": "code",
   "execution_count": 21,
   "metadata": {},
   "outputs": [],
   "source": [
    "n_comorbidities_deceased = n_comorbidities_deceased/n_comorbidities_deceased.sum()"
   ]
  },
  {
   "cell_type": "code",
   "execution_count": null,
   "metadata": {},
   "outputs": [],
   "source": []
  },
  {
   "cell_type": "code",
   "execution_count": 22,
   "metadata": {},
   "outputs": [],
   "source": [
    "age_dist = np.array([12.83, 9.98, 39.87, 14.96, 22.36])"
   ]
  },
  {
   "cell_type": "code",
   "execution_count": 23,
   "metadata": {},
   "outputs": [],
   "source": [
    "p_ages = []\n",
    "p_n_comorbidities = []\n",
    "\n",
    "for i in range(n_population):\n",
    "    age_dist_sampled = np.random.choice([0, 1, 2, 3, 4], p=age_dist/100)\n",
    "    \n",
    "    if age_dist_sampled == 0:\n",
    "        age_sampled = np.random.randint(low=0, high=14)\n",
    "        comorbiditiy_sampled = 0 #np.random.choice([0, 1, 2, 3], p=[0.90, 0.05, 0.03, 0.02])\n",
    "        \n",
    "    elif age_dist_sampled == 1:\n",
    "        age_sampled = np.random.randint(low=15, high=24)\n",
    "        comorbiditiy_sampled = np.random.choice([0, 1, 2, 3], p=[0.80, 0.10, 0.06, 0.04])\n",
    "        \n",
    "    elif age_dist_sampled == 2:\n",
    "        age_sampled = np.random.randint(low=25, high=54)\n",
    "        comorbiditiy_sampled = np.random.choice([0, 1, 2, 3], p=[0.60, 0.20, 0.10, 0.10])\n",
    "        \n",
    "    elif age_dist_sampled == 3:\n",
    "        age_sampled = np.random.randint(low=55, high=64)\n",
    "        comorbiditiy_sampled = np.random.choice([0, 1, 2, 3], p=[0.40, 0.30, 0.15, 0.15])\n",
    "        \n",
    "    elif age_dist_sampled == 4:\n",
    "        age_sampled = np.random.randint(low=65, high=100)\n",
    "        comorbiditiy_sampled = np.random.choice([0, 1, 2, 3], p=[0.30, 0.30, 0.20, 0.20])\n",
    "        \n",
    "    p_ages.append(age_sampled)\n",
    "    p_n_comorbidities.append(comorbiditiy_sampled)"
   ]
  },
  {
   "cell_type": "code",
   "execution_count": 24,
   "metadata": {},
   "outputs": [
    {
     "data": {
      "text/plain": [
       "array([[<matplotlib.axes._subplots.AxesSubplot object at 0x1a17c92190>]],\n",
       "      dtype=object)"
      ]
     },
     "execution_count": 24,
     "metadata": {},
     "output_type": "execute_result"
    },
    {
     "data": {
      "image/png": "[encoded data removed]",
      "text/plain": [
       "<Figure size 432x288 with 1 Axes>"
      ]
     },
     "metadata": {
      "needs_background": "light"
     },
     "output_type": "display_data"
    }
   ],
   "source": [
    "pd.DataFrame(p_ages).hist(bins=50)"
   ]
  },
  {
   "cell_type": "code",
   "execution_count": 25,
   "metadata": {
    "scrolled": true
   },
   "outputs": [
    {
     "data": {
      "image/png": "[encoded data removed]",
      "text/plain": [
       "<Figure size 432x288 with 1 Axes>"
      ]
     },
     "metadata": {
      "needs_background": "light"
     },
     "output_type": "display_data"
    },
    {
     "data": {
      "image/png": "[encoded data removed]",
      "text/plain": [
       "<Figure size 432x288 with 1 Axes>"
      ]
     },
     "metadata": {
      "needs_background": "light"
     },
     "output_type": "display_data"
    },
    {
     "data": {
      "image/png": "[encoded data removed]",
      "text/plain": [
       "<Figure size 432x288 with 1 Axes>"
      ]
     },
     "metadata": {
      "needs_background": "light"
     },
     "output_type": "display_data"
    },
    {
     "data": {
      "image/png": "[encoded data removed]",
      "text/plain": [
       "<Figure size 432x288 with 1 Axes>"
      ]
     },
     "metadata": {
      "needs_background": "light"
     },
     "output_type": "display_data"
    },
    {
     "data": {
      "image/png": "[encoded data removed]",
      "text/plain": [
       "<Figure size 432x288 with 1 Axes>"
      ]
     },
     "metadata": {
      "needs_background": "light"
     },
     "output_type": "display_data"
    },
    {
     "data": {
      "image/png": "[encoded data removed]",
      "text/plain": [
       "<Figure size 432x288 with 1 Axes>"
      ]
     },
     "metadata": {
      "needs_background": "light"
     },
     "output_type": "display_data"
    },
    {
     "data": {
      "image/png": "[encoded data removed]",
      "text/plain": [
       "<Figure size 432x288 with 1 Axes>"
      ]
     },
     "metadata": {
      "needs_background": "light"
     },
     "output_type": "display_data"
    },
    {
     "data": {
      "image/png": "[encoded data removed]",
      "text/plain": [
       "<Figure size 432x288 with 1 Axes>"
      ]
     },
     "metadata": {
      "needs_background": "light"
     },
     "output_type": "display_data"
    },
    {
     "data": {
      "image/png": "[encoded data removed]",
      "text/plain": [
       "<Figure size 432x288 with 1 Axes>"
      ]
     },
     "metadata": {
      "needs_background": "light"
     },
     "output_type": "display_data"
    },
    {
     "data": {
      "image/png": "[encoded data removed]",
      "text/plain": [
       "<Figure size 432x288 with 1 Axes>"
      ]
     },
     "metadata": {
      "needs_background": "light"
     },
     "output_type": "display_data"
    }
   ],
   "source": [
    "k = pd.DataFrame([(np.array(p_ages)/10).astype(int), p_n_comorbidities]).T\n",
    "\n",
    "for i in range(10):\n",
    "    k[k[0]==i][1].hist()\n",
    "    plt.title(\"age group:\"+str(i)+\" | total: \" + str(k[k[0]==i].shape[0]))\n",
    "    plt.show()"
   ]
  },
  {
   "cell_type": "code",
   "execution_count": null,
   "metadata": {},
   "outputs": [],
   "source": []
  },
  {
   "cell_type": "code",
   "execution_count": 26,
   "metadata": {},
   "outputs": [],
   "source": [
    "age_comorbidities = pd.read_csv(\"age_comorbitidites.csv\")"
   ]
  },
  {
   "cell_type": "code",
   "execution_count": 27,
   "metadata": {},
   "outputs": [],
   "source": [
    "age_comorbidities.iloc[:, 1] = age_comorbidities.iloc[:, 1]/np.sum(age_comorbidities.iloc[:, 1])\n",
    "age_comorbidities.iloc[:, 2] = age_comorbidities.iloc[:, 2]/np.sum(age_comorbidities.iloc[:, 2])\n",
    "age_comorbidities.iloc[:, 3] = age_comorbidities.iloc[:, 3]/np.sum(age_comorbidities.iloc[:, 3])\n",
    "age_comorbidities.iloc[:, 4] = age_comorbidities.iloc[:, 4]/np.sum(age_comorbidities.iloc[:, 4])"
   ]
  },
  {
   "cell_type": "code",
   "execution_count": 28,
   "metadata": {},
   "outputs": [],
   "source": [
    "comorbidities = age_comorbidities.iloc[:, 0]"
   ]
  },
  {
   "cell_type": "code",
   "execution_count": 29,
   "metadata": {},
   "outputs": [
    {
     "data": {
      "text/html": [
       "<div>\n",
       "<style scoped>\n",
       "    .dataframe tbody tr th:only-of-type {\n",
       "        vertical-align: middle;\n",
       "    }\n",
       "\n",
       "    .dataframe tbody tr th {\n",
       "        vertical-align: top;\n",
       "    }\n",
       "\n",
       "    .dataframe thead th {\n",
       "        text-align: right;\n",
       "    }\n",
       "</style>\n",
       "<table border=\"1\" class=\"dataframe\">\n",
       "  <thead>\n",
       "    <tr style=\"text-align: right;\">\n",
       "      <th></th>\n",
       "      <th>Comorbid Ailment</th>\n",
       "      <th>18-53</th>\n",
       "      <th>54-64</th>\n",
       "      <th>65-73</th>\n",
       "      <th>74-102</th>\n",
       "    </tr>\n",
       "  </thead>\n",
       "  <tbody>\n",
       "    <tr>\n",
       "      <td>0</td>\n",
       "      <td>Myocardial Infarct</td>\n",
       "      <td>0.023754</td>\n",
       "      <td>0.043632</td>\n",
       "      <td>0.053722</td>\n",
       "      <td>0.057679</td>\n",
       "    </tr>\n",
       "    <tr>\n",
       "      <td>1</td>\n",
       "      <td>Angina/ Artery Disease</td>\n",
       "      <td>0.031112</td>\n",
       "      <td>0.070618</td>\n",
       "      <td>0.094730</td>\n",
       "      <td>0.096760</td>\n",
       "    </tr>\n",
       "    <tr>\n",
       "      <td>2</td>\n",
       "      <td>Congestive Heart Failure</td>\n",
       "      <td>0.011352</td>\n",
       "      <td>0.018916</td>\n",
       "      <td>0.020504</td>\n",
       "      <td>0.041738</td>\n",
       "    </tr>\n",
       "    <tr>\n",
       "      <td>3</td>\n",
       "      <td>Hypertension</td>\n",
       "      <td>0.283582</td>\n",
       "      <td>0.326356</td>\n",
       "      <td>0.303363</td>\n",
       "      <td>0.252485</td>\n",
       "    </tr>\n",
       "    <tr>\n",
       "      <td>4</td>\n",
       "      <td>Arrhythmias</td>\n",
       "      <td>0.014505</td>\n",
       "      <td>0.025725</td>\n",
       "      <td>0.037216</td>\n",
       "      <td>0.065135</td>\n",
       "    </tr>\n",
       "  </tbody>\n",
       "</table>\n",
       "</div>"
      ],
      "text/plain": [
       "           Comorbid Ailment     18-53     54-64     65-73    74-102\n",
       "0        Myocardial Infarct  0.023754  0.043632  0.053722  0.057679\n",
       "1    Angina/ Artery Disease  0.031112  0.070618  0.094730  0.096760\n",
       "2  Congestive Heart Failure  0.011352  0.018916  0.020504  0.041738\n",
       "3              Hypertension  0.283582  0.326356  0.303363  0.252485\n",
       "4               Arrhythmias  0.014505  0.025725  0.037216  0.065135"
      ]
     },
     "execution_count": 29,
     "metadata": {},
     "output_type": "execute_result"
    }
   ],
   "source": [
    "age_comorbidities.head()"
   ]
  },
  {
   "cell_type": "code",
   "execution_count": null,
   "metadata": {},
   "outputs": [],
   "source": []
  },
  {
   "cell_type": "code",
   "execution_count": 30,
   "metadata": {},
   "outputs": [],
   "source": [
    "p_comorbidities = []\n",
    "\n",
    "for i, j in zip(p_ages, p_n_comorbidities):\n",
    "    c = []\n",
    "    if i < 18:\n",
    "        c = []\n",
    "    elif i >= 18 and i <= 53:\n",
    "        c = np.random.choice(comorbidities, p=age_comorbidities.iloc[:, 1], size=j, replace=False)\n",
    "    elif i >= 54 and i <= 64:\n",
    "        c = np.random.choice(comorbidities, p=age_comorbidities.iloc[:, 2], size=j, replace=False)\n",
    "    elif i >= 65 and i <= 73:\n",
    "        c = np.random.choice(comorbidities, p=age_comorbidities.iloc[:, 3], size=j, replace=False)\n",
    "    elif i >= 74:\n",
    "        c = np.random.choice(comorbidities, p=age_comorbidities.iloc[:, 4], size=j, replace=False)\n",
    "    p_comorbidities.append(list(c))"
   ]
  },
  {
   "cell_type": "code",
   "execution_count": null,
   "metadata": {},
   "outputs": [],
   "source": []
  },
  {
   "cell_type": "code",
   "execution_count": 31,
   "metadata": {},
   "outputs": [],
   "source": [
    "population = {i:{'at': j, 'age': k, 'state': 'free', \n",
    "                 'incubation_period':-1, 'comorbidities': m, 'n_comorbidities':l}\n",
    "              for i, j, k, l, m in zip(range(n_population), p_coord, p_ages, p_n_comorbidities, p_comorbidities)}"
   ]
  },
  {
   "cell_type": "code",
   "execution_count": null,
   "metadata": {},
   "outputs": [],
   "source": []
  },
  {
   "cell_type": "code",
   "execution_count": 32,
   "metadata": {},
   "outputs": [],
   "source": [
    "effected, _ = random_sample(list(population.keys()), n_effected_people)\n",
    "for i in effected:\n",
    "    effect_person(population[i])\n",
    "del effected"
   ]
  },
  {
   "cell_type": "code",
   "execution_count": null,
   "metadata": {},
   "outputs": [],
   "source": []
  },
  {
   "cell_type": "code",
   "execution_count": 33,
   "metadata": {
    "scrolled": true
   },
   "outputs": [
    {
     "name": "stdout",
     "output_type": "stream",
     "text": [
      "0\n",
      "597\n",
      "1050\n",
      "1442\n",
      "1747\n",
      "2010\n",
      "2212\n",
      "2370\n",
      "2545\n",
      "2689\n",
      "2799\n",
      "2894\n",
      "3000\n",
      "3108\n",
      "3199\n",
      "3289\n",
      "3381\n",
      "3460\n",
      "3530\n",
      "3590\n",
      "3664\n",
      "3709\n",
      "3760\n",
      "3802\n",
      "3846\n",
      "3877\n",
      "3918\n",
      "3954\n",
      "3986\n",
      "4015\n",
      "4058\n",
      "4093\n",
      "4130\n",
      "4168\n",
      "4201\n",
      "4232\n",
      "4262\n",
      "4290\n",
      "4313\n",
      "4354\n",
      "4385\n",
      "4413\n",
      "4442\n",
      "4463\n",
      "4485\n",
      "4497\n",
      "4523\n",
      "4555\n",
      "4571\n",
      "4585\n",
      "4600\n",
      "4614\n",
      "4630\n",
      "4643\n",
      "4659\n",
      "4675\n",
      "4695\n",
      "4710\n",
      "4725\n",
      "4739\n",
      "4754\n",
      "4768\n",
      "4779\n",
      "4795\n",
      "4808\n",
      "4819\n",
      "4830\n",
      "4845\n",
      "4861\n",
      "4876\n",
      "4892\n",
      "4904\n",
      "4913\n",
      "4925\n",
      "4932\n",
      "4949\n",
      "4960\n",
      "4971\n",
      "4980\n",
      "4992\n"
     ]
    }
   ],
   "source": [
    "edges = []\n",
    "c = np.array(coordinates)\n",
    "while len(set(edges)) < n_nodes * connectivity:\n",
    "    print(len(set(edges)))\n",
    "    t, t_idx = random_sample(c, 1000)\n",
    "    u, u_idx = random_sample(c, 1000)\n",
    "    dist = euclidean_distances(t, u)\n",
    "    for idx, i in enumerate(dist):\n",
    "        a = np.argsort(i)[:2]\n",
    "        edges += [(t_idx[idx], u_idx[j]) for j in a if i[j]<(n_nodes/10) and i[j] != 0]\n",
    "edges = set(edges)"
   ]
  },
  {
   "cell_type": "code",
   "execution_count": 34,
   "metadata": {},
   "outputs": [],
   "source": [
    "neighbours = {i:[] for i in coordinates_idx}\n",
    "for i, j in edges:\n",
    "    neighbours[i] += [j]\n",
    "    neighbours[j] += [i]"
   ]
  },
  {
   "cell_type": "code",
   "execution_count": 35,
   "metadata": {},
   "outputs": [
    {
     "data": {
      "text/plain": [
       "(999, 2000, 5015, 2)"
      ]
     },
     "execution_count": 35,
     "metadata": {},
     "output_type": "execute_result"
    }
   ],
   "source": [
    "len(coordinates), len(population), len(edges), get_status('infected', True)"
   ]
  },
  {
   "cell_type": "code",
   "execution_count": null,
   "metadata": {},
   "outputs": [],
   "source": []
  },
  {
   "cell_type": "code",
   "execution_count": 36,
   "metadata": {},
   "outputs": [
    {
     "name": "stderr",
     "output_type": "stream",
     "text": [
      "100%|██████████| 999/999 [00:00<00:00, 266461.67it/s]\n"
     ]
    }
   ],
   "source": [
    "G_dash = nx.Graph()\n",
    "for p in tqdm(range(len(coordinates))):\n",
    "    G_dash.add_node(p, pos=[coordinates[p][0], coordinates[p][1]])\n",
    "pos = nx.get_node_attributes(G_dash, 'pos')\n",
    "G = deepcopy(G_dash)"
   ]
  },
  {
   "cell_type": "code",
   "execution_count": null,
   "metadata": {},
   "outputs": [],
   "source": []
  },
  {
   "cell_type": "code",
   "execution_count": 37,
   "metadata": {},
   "outputs": [],
   "source": [
    "hospitalised, cured, dead = {}, {}, {}"
   ]
  },
  {
   "cell_type": "code",
   "execution_count": 38,
   "metadata": {
    "scrolled": false
   },
   "outputs": [
    {
     "name": "stdout",
     "output_type": "stream",
     "text": [
      "Day:0\tP:2000\tS:1997\tI:3\tH:0\tC:0\tD:0\tP+H+D:2000\tprobability:0.0\n",
      "Day:1\tP:2000\tS:1994\tI:6\tH:0\tC:0\tD:0\tP+H+D:2000\tprobability:0.0\n",
      "Day:2\tP:2000\tS:1987\tI:13\tH:0\tC:0\tD:0\tP+H+D:2000\tprobability:0.0\n",
      "Day:3\tP:2000\tS:1978\tI:22\tH:0\tC:0\tD:0\tP+H+D:2000\tprobability:0.0\n",
      "Day:4\tP:1998\tS:1960\tI:38\tH:2\tC:0\tD:0\tP+H+D:2000\tprobability:0.0\n",
      "Day:5\tP:1996\tS:1930\tI:66\tH:4\tC:0\tD:0\tP+H+D:2000\tprobability:0.0\n",
      "Day:6\tP:1995\tS:1883\tI:112\tH:5\tC:0\tD:0\tP+H+D:2000\tprobability:0.1\n",
      "Day:7\tP:1988\tS:1829\tI:159\tH:12\tC:0\tD:0\tP+H+D:2000\tprobability:0.1\n",
      "Day:8\tP:1980\tS:1749\tI:231\tH:20\tC:0\tD:0\tP+H+D:2000\tprobability:0.1\n",
      "Day:9\tP:1956\tS:1669\tI:287\tH:44\tC:0\tD:0\tP+H+D:2000\tprobability:0.1\n",
      "Day:10\tP:1930\tS:1579\tI:351\tH:70\tC:0\tD:0\tP+H+D:2000\tprobability:0.2\n",
      "Day:11\tP:1899\tS:1494\tI:404\tH:101\tC:1\tD:0\tP+H+D:2000\tprobability:0.2\n",
      "Day:12\tP:1858\tS:1395\tI:460\tH:141\tC:3\tD:1\tP+H+D:2000\tprobability:0.2\n",
      "Day:13\tP:1802\tS:1284\tI:515\tH:195\tC:3\tD:3\tP+H+D:2000\tprobability:0.3\n",
      "Day:14\tP:1743\tS:1142\tI:589\tH:253\tC:12\tD:4\tP+H+D:2000\tprobability:0.3\n",
      "Day:15\tP:1677\tS:998\tI:656\tH:319\tC:23\tD:4\tP+H+D:2000\tprobability:0.4\n",
      "Day:16\tP:1632\tS:907\tI:685\tH:363\tC:40\tD:5\tP+H+D:2000\tprobability:0.4\n",
      "Day:17\tP:1554\tS:839\tI:658\tH:437\tC:57\tD:9\tP+H+D:2000\tprobability:0.4\n",
      "Day:18\tP:1498\tS:775\tI:641\tH:492\tC:82\tD:10\tP+H+D:2000\tprobability:0.4\n",
      "Day:19\tP:1411\tS:707\tI:598\tH:573\tC:106\tD:16\tP+H+D:2000\tprobability:0.4\n",
      "Day:20\tP:1341\tS:650\tI:546\tH:641\tC:145\tD:18\tP+H+D:2000\tprobability:0.4\n",
      "Day:21\tP:1274\tS:583\tI:518\tH:704\tC:173\tD:22\tP+H+D:2000\tprobability:0.4\n",
      "Day:22\tP:1224\tS:538\tI:470\tH:747\tC:216\tD:29\tP+H+D:2000\tprobability:0.4\n",
      "Day:23\tP:1206\tS:496\tI:420\tH:753\tC:290\tD:41\tP+H+D:2000\tprobability:0.3\n",
      "Day:24\tP:1189\tS:460\tI:376\tH:759\tC:353\tD:52\tP+H+D:2000\tprobability:0.3\n",
      "Day:25\tP:1171\tS:432\tI:324\tH:766\tC:415\tD:63\tP+H+D:2000\tprobability:0.3\n",
      "Day:26\tP:1165\tS:407\tI:275\tH:762\tC:483\tD:73\tP+H+D:2000\tprobability:0.2\n",
      "Day:27\tP:1192\tS:376\tI:248\tH:727\tC:568\tD:81\tP+H+D:2000\tprobability:0.2\n",
      "Day:28\tP:1233\tS:352\tI:218\tH:677\tC:663\tD:90\tP+H+D:2000\tprobability:0.2\n",
      "Day:29\tP:1261\tS:327\tI:196\tH:629\tC:738\tD:110\tP+H+D:2000\tprobability:0.2\n",
      "Day:30\tP:1311\tS:311\tI:180\tH:573\tC:820\tD:116\tP+H+D:2000\tprobability:0.1\n",
      "Day:31\tP:1364\tS:301\tI:153\tH:513\tC:910\tD:123\tP+H+D:2000\tprobability:0.1\n",
      "Day:32\tP:1408\tS:295\tI:129\tH:464\tC:984\tD:128\tP+H+D:2000\tprobability:0.1\n",
      "Day:33\tP:1442\tS:289\tI:109\tH:419\tC:1044\tD:139\tP+H+D:2000\tprobability:0.1\n",
      "Day:34\tP:1469\tS:284\tI:94\tH:380\tC:1091\tD:151\tP+H+D:2000\tprobability:0.1\n",
      "Day:35\tP:1509\tS:282\tI:75\tH:328\tC:1152\tD:163\tP+H+D:2000\tprobability:0.0\n",
      "Day:36\tP:1543\tS:279\tI:58\tH:285\tC:1206\tD:172\tP+H+D:2000\tprobability:0.0\n",
      "Day:37\tP:1559\tS:279\tI:39\tH:262\tC:1241\tD:179\tP+H+D:2000\tprobability:0.0\n",
      "Day:38\tP:1587\tS:279\tI:29\tH:232\tC:1279\tD:181\tP+H+D:2000\tprobability:0.0\n",
      "Day:39\tP:1609\tS:279\tI:19\tH:205\tC:1311\tD:186\tP+H+D:2000\tprobability:0.0\n",
      "Day:40\tP:1629\tS:278\tI:15\tH:179\tC:1336\tD:192\tP+H+D:2000\tprobability:0.0\n",
      "Day:41\tP:1659\tS:277\tI:11\tH:142\tC:1371\tD:199\tP+H+D:2000\tprobability:0.0\n",
      "Day:42\tP:1683\tS:277\tI:9\tH:116\tC:1397\tD:201\tP+H+D:2000\tprobability:0.0\n",
      "Day:43\tP:1695\tS:276\tI:8\tH:101\tC:1411\tD:204\tP+H+D:2000\tprobability:0.0\n",
      "Day:44\tP:1711\tS:276\tI:5\tH:83\tC:1430\tD:206\tP+H+D:2000\tprobability:0.0\n",
      "Day:45\tP:1721\tS:276\tI:5\tH:67\tC:1440\tD:212\tP+H+D:2000\tprobability:0.0\n",
      "Day:46\tP:1735\tS:276\tI:3\tH:51\tC:1456\tD:214\tP+H+D:2000\tprobability:0.0\n",
      "Day:47\tP:1750\tS:276\tI:3\tH:35\tC:1471\tD:215\tP+H+D:2000\tprobability:0.0\n",
      "Day:48\tP:1757\tS:276\tI:1\tH:28\tC:1480\tD:215\tP+H+D:2000\tprobability:0.0\n",
      "Day:49\tP:1764\tS:276\tI:1\tH:19\tC:1487\tD:217\tP+H+D:2000\tprobability:0.0\n",
      "Day:50\tP:1767\tS:276\tI:0\tH:15\tC:1491\tD:218\tP+H+D:2000\tprobability:0.0\n",
      "Day:51\tP:1770\tS:276\tI:0\tH:12\tC:1494\tD:218\tP+H+D:2000\tprobability:0.0\n",
      "Day:52\tP:1770\tS:276\tI:0\tH:11\tC:1494\tD:219\tP+H+D:2000\tprobability:0.0\n",
      "Day:53\tP:1772\tS:276\tI:0\tH:9\tC:1496\tD:219\tP+H+D:2000\tprobability:0.0\n",
      "Day:54\tP:1774\tS:276\tI:0\tH:7\tC:1498\tD:219\tP+H+D:2000\tprobability:0.0\n",
      "Day:55\tP:1775\tS:276\tI:0\tH:6\tC:1499\tD:219\tP+H+D:2000\tprobability:0.0\n",
      "Day:56\tP:1777\tS:276\tI:0\tH:4\tC:1501\tD:219\tP+H+D:2000\tprobability:0.0\n",
      "Day:57\tP:1778\tS:276\tI:0\tH:3\tC:1502\tD:219\tP+H+D:2000\tprobability:0.0\n",
      "Day:58\tP:1778\tS:276\tI:0\tH:3\tC:1502\tD:219\tP+H+D:2000\tprobability:0.0\n",
      "Day:59\tP:1780\tS:276\tI:0\tH:1\tC:1504\tD:219\tP+H+D:2000\tprobability:0.0\n",
      "Day:60\tP:1780\tS:276\tI:0\tH:1\tC:1504\tD:219\tP+H+D:2000\tprobability:0.0\n",
      "Day:61\tP:1780\tS:276\tI:0\tH:1\tC:1504\tD:219\tP+H+D:2000\tprobability:0.0\n",
      "Day:62\tP:1780\tS:276\tI:0\tH:1\tC:1504\tD:219\tP+H+D:2000\tprobability:0.0\n",
      "Day:63\tP:1781\tS:276\tI:0\tH:0\tC:1505\tD:219\tP+H+D:2000\tprobability:0.0\n",
      "Day:64\tP:1781\tS:276\tI:0\tH:0\tC:1505\tD:219\tP+H+D:2000\tprobability:0.0\n",
      "Day:65\tP:1781\tS:276\tI:0\tH:0\tC:1505\tD:219\tP+H+D:2000\tprobability:0.0\n",
      "Day:66\tP:1781\tS:276\tI:0\tH:0\tC:1505\tD:219\tP+H+D:2000\tprobability:0.0\n",
      "Day:67\tP:1781\tS:276\tI:0\tH:0\tC:1505\tD:219\tP+H+D:2000\tprobability:0.0\n",
      "Day:68\tP:1781\tS:276\tI:0\tH:0\tC:1505\tD:219\tP+H+D:2000\tprobability:0.0\n",
      "Day:69\tP:1781\tS:276\tI:0\tH:0\tC:1505\tD:219\tP+H+D:2000\tprobability:0.0\n",
      "Day:70\tP:1781\tS:276\tI:0\tH:0\tC:1505\tD:219\tP+H+D:2000\tprobability:0.0\n",
      "Day:71\tP:1781\tS:276\tI:0\tH:0\tC:1505\tD:219\tP+H+D:2000\tprobability:0.0\n",
      "Day:72\tP:1781\tS:276\tI:0\tH:0\tC:1505\tD:219\tP+H+D:2000\tprobability:0.0\n",
      "Day:73\tP:1781\tS:276\tI:0\tH:0\tC:1505\tD:219\tP+H+D:2000\tprobability:0.0\n",
      "Day:74\tP:1781\tS:276\tI:0\tH:0\tC:1505\tD:219\tP+H+D:2000\tprobability:0.0\n",
      "Day:75\tP:1781\tS:276\tI:0\tH:0\tC:1505\tD:219\tP+H+D:2000\tprobability:0.0\n",
      "Day:76\tP:1781\tS:276\tI:0\tH:0\tC:1505\tD:219\tP+H+D:2000\tprobability:0.0\n",
      "Day:77\tP:1781\tS:276\tI:0\tH:0\tC:1505\tD:219\tP+H+D:2000\tprobability:0.0\n",
      "Day:78\tP:1781\tS:276\tI:0\tH:0\tC:1505\tD:219\tP+H+D:2000\tprobability:0.0\n",
      "Day:79\tP:1781\tS:276\tI:0\tH:0\tC:1505\tD:219\tP+H+D:2000\tprobability:0.0\n",
      "Day:80\tP:1781\tS:276\tI:0\tH:0\tC:1505\tD:219\tP+H+D:2000\tprobability:0.0\n",
      "Day:81\tP:1781\tS:276\tI:0\tH:0\tC:1505\tD:219\tP+H+D:2000\tprobability:0.0\n",
      "Day:82\tP:1781\tS:276\tI:0\tH:0\tC:1505\tD:219\tP+H+D:2000\tprobability:0.0\n",
      "Day:83\tP:1781\tS:276\tI:0\tH:0\tC:1505\tD:219\tP+H+D:2000\tprobability:0.0\n",
      "Day:84\tP:1781\tS:276\tI:0\tH:0\tC:1505\tD:219\tP+H+D:2000\tprobability:0.0\n",
      "Day:85\tP:1781\tS:276\tI:0\tH:0\tC:1505\tD:219\tP+H+D:2000\tprobability:0.0\n",
      "Day:86\tP:1781\tS:276\tI:0\tH:0\tC:1505\tD:219\tP+H+D:2000\tprobability:0.0\n",
      "Day:87\tP:1781\tS:276\tI:0\tH:0\tC:1505\tD:219\tP+H+D:2000\tprobability:0.0\n",
      "Day:88\tP:1781\tS:276\tI:0\tH:0\tC:1505\tD:219\tP+H+D:2000\tprobability:0.0\n",
      "Day:89\tP:1781\tS:276\tI:0\tH:0\tC:1505\tD:219\tP+H+D:2000\tprobability:0.0\n",
      "Day:90\tP:1781\tS:276\tI:0\tH:0\tC:1505\tD:219\tP+H+D:2000\tprobability:0.0\n",
      "Day:91\tP:1781\tS:276\tI:0\tH:0\tC:1505\tD:219\tP+H+D:2000\tprobability:0.0\n",
      "Day:92\tP:1781\tS:276\tI:0\tH:0\tC:1505\tD:219\tP+H+D:2000\tprobability:0.0\n",
      "Day:93\tP:1781\tS:276\tI:0\tH:0\tC:1505\tD:219\tP+H+D:2000\tprobability:0.0\n",
      "Day:94\tP:1781\tS:276\tI:0\tH:0\tC:1505\tD:219\tP+H+D:2000\tprobability:0.0\n",
      "Day:95\tP:1781\tS:276\tI:0\tH:0\tC:1505\tD:219\tP+H+D:2000\tprobability:0.0\n",
      "Day:96\tP:1781\tS:276\tI:0\tH:0\tC:1505\tD:219\tP+H+D:2000\tprobability:0.0\n",
      "Day:97\tP:1781\tS:276\tI:0\tH:0\tC:1505\tD:219\tP+H+D:2000\tprobability:0.0\n",
      "Day:98\tP:1781\tS:276\tI:0\tH:0\tC:1505\tD:219\tP+H+D:2000\tprobability:0.0\n",
      "Day:99\tP:1781\tS:276\tI:0\tH:0\tC:1505\tD:219\tP+H+D:2000\tprobability:0.0\n"
     ]
    }
   ],
   "source": [
    "history = []\n",
    "k = []\n",
    "\n",
    "for day in range(n_days):\n",
    "\n",
    "#     print(print_stats(day))\n",
    "\n",
    "    del_pids, del_hids = [], []\n",
    "    \n",
    "    rw_normal = {}\n",
    "    rw_effected = {}\n",
    "\n",
    "    rw_normal_edges = []\n",
    "    rw_effected_edges = []\n",
    "\n",
    "    for pid, person in population.items():\n",
    "        current_position = person['at']\n",
    "        _, rw_edges = random_walk(current_position, person, day)\n",
    "        \n",
    "        k.append(len(rw_edges))\n",
    "\n",
    "        if person['state']=='infected':\n",
    "            rw_effected[pid] = rw_edges\n",
    "            rw_effected_edges += rw_edges\n",
    "            \n",
    "            person['incubation_period'] -= 1\n",
    "            \n",
    "            if person['incubation_period'] == 0:\n",
    "                person['end_period'] = np.random.randint(5, 15)\n",
    "                person['state'] = 'hospitalised'\n",
    "                hospitalised[pid] = person\n",
    "                del_pids.append(pid)\n",
    "        else:\n",
    "            rw_normal[pid] = rw_edges\n",
    "            rw_normal_edges += rw_edges\n",
    "            \n",
    "    for pid, person in hospitalised.items():\n",
    "        person['end_period'] -= 1\n",
    "        \n",
    "        if person['end_period'] == 0:\n",
    "            is_dead_ = is_dead(person)\n",
    "            if is_dead_:\n",
    "                person['state'] = 'dead'\n",
    "                dead[pid] = person\n",
    "            else:\n",
    "                person['state'] = 'cured'\n",
    "                cured[pid] = person\n",
    "                population[pid] = person\n",
    "            del_hids.append(pid)\n",
    "\n",
    "    contaminated_paths = Counter(rw_effected_edges)\n",
    "    \n",
    "#     plot_plot(iter_=day, rw_effected_edges = rw_effected_edges, rw_normal_edges=rw_normal_edges)\n",
    "\n",
    "    for pid, j in rw_normal.items():\n",
    "        if population[pid]['state'] == 'free':\n",
    "        \n",
    "            similar_paths = list(set(j).intersection(set(rw_effected_edges)))\n",
    "\n",
    "            contamination_probability = sum([contaminated_paths[s] for s in similar_paths])\n",
    "\n",
    "            denominator = contamination_confidence + contamination_probability\n",
    "            t_prob = [contamination_confidence/denominator, contamination_probability/denominator]\n",
    "            \n",
    "            if np.random.choice([0, 1], p=t_prob):\n",
    "                effect_person(population[pid])\n",
    "            \n",
    "    for pid in del_pids:\n",
    "        del population[pid]\n",
    "        \n",
    "    for pid in del_hids:\n",
    "        del hospitalised[pid]\n",
    "        \n",
    "        \n",
    "    history.append([len(population), get_status(\"free\", True), get_status('infected', True), len(hospitalised), len(cured), len(dead)])\n",
    "        \n",
    "    print(print_stats(day))"
   ]
  },
  {
   "cell_type": "code",
   "execution_count": null,
   "metadata": {},
   "outputs": [],
   "source": []
  },
  {
   "cell_type": "code",
   "execution_count": 39,
   "metadata": {},
   "outputs": [
    {
     "data": {
      "image/png": "[encoded data removed]",
      "text/plain": [
       "<Figure size 432x288 with 1 Axes>"
      ]
     },
     "metadata": {
      "needs_background": "light"
     },
     "output_type": "display_data"
    }
   ],
   "source": [
    "plt.plot(np.array(history)[:, 0], label=\"Free Population | Free to roam\")\n",
    "plt.plot(np.array(history)[:, 1], label=\"Susceptible\")\n",
    "plt.plot(np.array(history)[:, 2], label=\"Infected\")\n",
    "plt.plot(np.array(history)[:, 3], label=\"Hospitalised\")\n",
    "plt.plot(np.array(history)[:, 4], label=\"Cured\")\n",
    "plt.plot(np.array(history)[:, 5], label=\"Dead\")\n",
    "plt.title('Simulation Results for 8000 Population | Double lockdown on days 15 and 30')\n",
    "plt.ylabel('Count of population')\n",
    "plt.xlabel('Days')\n",
    "plt.legend(loc='best')\n",
    "plt.rcParams[\"figure.figsize\"]=10,7\n",
    "plt.show()"
   ]
  },
  {
   "cell_type": "code",
   "execution_count": null,
   "metadata": {},
   "outputs": [],
   "source": []
  },
  {
   "cell_type": "code",
   "execution_count": null,
   "metadata": {},
   "outputs": [],
   "source": []
  },
  {
   "cell_type": "code",
   "execution_count": null,
   "metadata": {},
   "outputs": [],
   "source": []
  },
  {
   "cell_type": "code",
   "execution_count": null,
   "metadata": {},
   "outputs": [],
   "source": []
  },
  {
   "cell_type": "code",
   "execution_count": null,
   "metadata": {},
   "outputs": [],
   "source": []
  },
  {
   "cell_type": "code",
   "execution_count": null,
   "metadata": {},
   "outputs": [],
   "source": []
  },
  {
   "cell_type": "code",
   "execution_count": null,
   "metadata": {},
   "outputs": [],
   "source": []
  },
  {
   "cell_type": "code",
   "execution_count": null,
   "metadata": {},
   "outputs": [],
   "source": []
  }
 ],
 "metadata": {
  "kernelspec": {
   "display_name": "Python 3",
   "language": "python",
   "name": "python3"
  },
  "language_info": {
   "codemirror_mode": {
    "name": "ipython",
    "version": 3
   },
   "file_extension": ".py",
   "mimetype": "text/x-python",
   "name": "python",
   "nbconvert_exporter": "python",
   "pygments_lexer": "ipython3",
   "version": "3.7.4"
  }
 },
 "nbformat": 4,
 "nbformat_minor": 2
}
