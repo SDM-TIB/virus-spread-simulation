{
 "cells": [
  {
   "cell_type": "code",
   "execution_count": 1,
   "metadata": {},
   "outputs": [],
   "source": [
    "import random\n",
    "import matplotlib\n",
    "\n",
    "import numpy as np\n",
    "import networkx as nx\n",
    "import matplotlib.pyplot as plt\n",
    "\n",
    "from copy import deepcopy\n",
    "from tqdm import tqdm\n",
    "from collections import Counter\n",
    "from scipy.spatial import distance\n",
    "from sklearn.metrics.pairwise import euclidean_distances\n",
    "from IPython.display import clear_output"
   ]
  },
  {
   "cell_type": "code",
   "execution_count": null,
   "metadata": {},
   "outputs": [],
   "source": []
  },
  {
   "cell_type": "code",
   "execution_count": 2,
   "metadata": {},
   "outputs": [],
   "source": [
    "def print_stats(day):\n",
    "    print(\"day:\", day , \"population:\", len(population), \"infected:\", get_status(), \"quarrentined:\", len(quarrentined), \"probability:\", get_status()/len(population))"
   ]
  },
  {
   "cell_type": "code",
   "execution_count": 3,
   "metadata": {},
   "outputs": [],
   "source": [
    "def gen_rand_coordinates(n):\n",
    "    x = np.random.randint(low=0, high=1.5*n, size=n)\n",
    "    y = np.random.randint(low=0, high=1.5*n, size=n)\n",
    "    \n",
    "    coordinates = [(i, j) for i, j in zip(x, y)]\n",
    "    \n",
    "    return list(set(coordinates)), list(range(len(set(coordinates))))"
   ]
  },
  {
   "cell_type": "code",
   "execution_count": 4,
   "metadata": {},
   "outputs": [],
   "source": [
    "def random_walk(current_position, person):\n",
    "    path = []\n",
    "    edges = []\n",
    "    path.append(deepcopy(current_position))\n",
    "    \n",
    "    percentage = int(len(quarrentined)/2000)\n",
    "    \n",
    "    if person['age']>18 and person['age']<50:\n",
    "        m = 50\n",
    "        m_ = int(m/10)\n",
    "        m = m - (m_*percentage)\n",
    "        n = np.random.randint(0, m)\n",
    "        \n",
    "    else:        \n",
    "        m = 20\n",
    "        m_ = int(m/10)\n",
    "        m = m - (m_*percentage)\n",
    "        n = np.random.randint(0, m)\n",
    "        \n",
    "    for i in range(n):\n",
    "        person_neighbours = neighbours[current_position]\n",
    "        if len(person_neighbours) > 0:\n",
    "            next_position = np.random.choice(person_neighbours)\n",
    "            path.append(next_position)\n",
    "            edges.append((current_position, next_position))\n",
    "            current_position = deepcopy(next_position)\n",
    "    return path, edges"
   ]
  },
  {
   "cell_type": "code",
   "execution_count": 5,
   "metadata": {},
   "outputs": [],
   "source": [
    "def random_sample(data, n):\n",
    "    idx = np.random.randint(low=0, high=len(data), size=n)\n",
    "    return [data[i] for i in idx], idx"
   ]
  },
  {
   "cell_type": "code",
   "execution_count": 6,
   "metadata": {},
   "outputs": [],
   "source": [
    "def get_status(effected=True):\n",
    "    return Counter([p['effected'] for p in population.values()])[effected]"
   ]
  },
  {
   "cell_type": "code",
   "execution_count": 7,
   "metadata": {},
   "outputs": [],
   "source": [
    "def get_p_at(effected=True):\n",
    "    return [p['at'] for p in population.values() if p['effected']]"
   ]
  },
  {
   "cell_type": "code",
   "execution_count": 8,
   "metadata": {},
   "outputs": [],
   "source": [
    "def effect_person(person):\n",
    "    person['effected'] = True\n",
    "    person['incubation_period'] = np.random.randint(low=5, high=10)"
   ]
  },
  {
   "cell_type": "code",
   "execution_count": 9,
   "metadata": {},
   "outputs": [],
   "source": [
    "def plot_plot(rw_normal_edges=None, rw_effected_edges=None, clear=False):\n",
    "    clear_output(wait=clear)\n",
    "    \n",
    "    pop = [p['at'] for i, p in population.items()]\n",
    "    eff = get_p_at()\n",
    "\n",
    "    plt.figure(0, figsize=(16, 11))\n",
    "    \n",
    "    nx.draw_networkx_nodes(G, pos,\n",
    "                           nodelist=pop,\n",
    "                           node_color='blue', node_size=5)\n",
    "\n",
    "    nx.draw_networkx_nodes(G, pos,\n",
    "                           nodelist=eff,\n",
    "                           node_color='r', node_size=50)\n",
    "\n",
    "    nx.draw_networkx_edges(G, pos,\n",
    "                           edgelist=edges,\n",
    "                           width=0.5,alpha=0.3,edge_color='b')\n",
    "\n",
    "    if rw_normal_edges is not None:\n",
    "        nx.draw_networkx_edges(G,pos,\n",
    "                               edgelist=rw_normal_edges,\n",
    "                               width=0.3,alpha=0.3,edge_color='y')\n",
    "\n",
    "        nx.draw_networkx_edges(G,pos,\n",
    "                               edgelist=rw_effected_edges,\n",
    "                               width=3,alpha=0.3,edge_color='red')\n",
    "\n",
    "    nx.draw_networkx(G, pos, node_size=1, with_labels=False)\n",
    "    plt.show()"
   ]
  },
  {
   "cell_type": "code",
   "execution_count": null,
   "metadata": {},
   "outputs": [],
   "source": []
  },
  {
   "cell_type": "code",
   "execution_count": 10,
   "metadata": {},
   "outputs": [],
   "source": [
    "n_days = 100"
   ]
  },
  {
   "cell_type": "code",
   "execution_count": 11,
   "metadata": {},
   "outputs": [],
   "source": [
    "n_nodes = 10000\n",
    "connectivity = 5\n",
    "n_population = n_nodes * 2\n",
    "n_effected_people = 2 #int(n_population/100)\n",
    "\n",
    "contamination_confidence = 100"
   ]
  },
  {
   "cell_type": "code",
   "execution_count": 12,
   "metadata": {},
   "outputs": [],
   "source": [
    "coordinates, coordinates_idx = gen_rand_coordinates(n_nodes)"
   ]
  },
  {
   "cell_type": "code",
   "execution_count": 13,
   "metadata": {},
   "outputs": [],
   "source": [
    "_, p_coord = random_sample(coordinates, n_population)"
   ]
  },
  {
   "cell_type": "code",
   "execution_count": 14,
   "metadata": {},
   "outputs": [],
   "source": [
    "p_ages = np.random.randint(low=2, high=80, size=n_population)"
   ]
  },
  {
   "cell_type": "code",
   "execution_count": 15,
   "metadata": {},
   "outputs": [],
   "source": [
    "population = {i:{'at': j, 'age': k, 'effected': False, 'incubation_period':-1} for i, j, k in zip(range(n_population), p_coord, p_ages)}"
   ]
  },
  {
   "cell_type": "code",
   "execution_count": 16,
   "metadata": {},
   "outputs": [],
   "source": [
    "effected, _ = random_sample(list(population.keys()), n_effected_people)\n",
    "for i in effected:\n",
    "    effect_person(population[i])\n",
    "del effected"
   ]
  },
  {
   "cell_type": "code",
   "execution_count": null,
   "metadata": {},
   "outputs": [],
   "source": []
  },
  {
   "cell_type": "code",
   "execution_count": 17,
   "metadata": {
    "scrolled": false
   },
   "outputs": [
    {
     "name": "stdout",
     "output_type": "stream",
     "text": [
      "0\n",
      "1748\n",
      "3512\n",
      "5218\n",
      "6962\n",
      "8690\n",
      "10411\n",
      "12164\n",
      "13873\n",
      "15571\n",
      "17263\n",
      "18936\n",
      "20591\n",
      "22213\n",
      "23854\n",
      "25504\n",
      "27150\n",
      "28755\n",
      "30374\n",
      "32004\n",
      "33599\n",
      "35194\n",
      "36759\n",
      "38312\n",
      "39880\n",
      "41420\n",
      "43002\n",
      "44531\n",
      "46057\n",
      "47566\n",
      "49104\n"
     ]
    }
   ],
   "source": [
    "edges = []\n",
    "c = np.array(coordinates)\n",
    "while len(set(edges)) < n_nodes * connectivity:\n",
    "    print(len(set(edges)))\n",
    "    t, t_idx = random_sample(c, 1000)\n",
    "    u, u_idx = random_sample(c, 1000)\n",
    "    dist = euclidean_distances(t, u)\n",
    "    for idx, i in enumerate(dist):\n",
    "        a = np.argsort(i)[:2]\n",
    "        edges += [(t_idx[idx], u_idx[j]) for j in a if i[j]<(n_nodes/10) and i[j] != 0]\n",
    "edges = set(edges)"
   ]
  },
  {
   "cell_type": "code",
   "execution_count": 18,
   "metadata": {},
   "outputs": [],
   "source": [
    "neighbours = {i:[] for i in coordinates_idx}\n",
    "for i, j in edges:\n",
    "    neighbours[i] += [j]\n",
    "    neighbours[j] += [i]"
   ]
  },
  {
   "cell_type": "code",
   "execution_count": 19,
   "metadata": {},
   "outputs": [
    {
     "data": {
      "text/plain": [
       "(10000, 20000, 50612, 2)"
      ]
     },
     "execution_count": 19,
     "metadata": {},
     "output_type": "execute_result"
    }
   ],
   "source": [
    "len(coordinates), len(population), len(edges), get_status()"
   ]
  },
  {
   "cell_type": "code",
   "execution_count": null,
   "metadata": {},
   "outputs": [],
   "source": []
  },
  {
   "cell_type": "code",
   "execution_count": 20,
   "metadata": {},
   "outputs": [
    {
     "name": "stderr",
     "output_type": "stream",
     "text": [
      "100%|██████████| 10000/10000 [00:00<00:00, 42486.74it/s]\n"
     ]
    }
   ],
   "source": [
    "G_dash = nx.Graph()\n",
    "for p in tqdm(range(len(coordinates))):\n",
    "    G_dash.add_node(p, pos=[coordinates[p][0], coordinates[p][1]])\n",
    "pos = nx.get_node_attributes(G_dash, 'pos')\n",
    "G = deepcopy(G_dash)"
   ]
  },
  {
   "cell_type": "code",
   "execution_count": null,
   "metadata": {},
   "outputs": [],
   "source": []
  },
  {
   "cell_type": "code",
   "execution_count": 21,
   "metadata": {},
   "outputs": [],
   "source": [
    "quarrentined = {}"
   ]
  },
  {
   "cell_type": "code",
   "execution_count": 22,
   "metadata": {
    "scrolled": false
   },
   "outputs": [
    {
     "name": "stdout",
     "output_type": "stream",
     "text": [
      "day: 0 population: 20000 infected: 2 quarrentined: 0 probability: 0.0001\n",
      "day: 1 population: 20000 infected: 3 quarrentined: 0 probability: 0.00015\n",
      "day: 2 population: 20000 infected: 6 quarrentined: 0 probability: 0.0003\n",
      "day: 3 population: 20000 infected: 9 quarrentined: 0 probability: 0.00045\n",
      "day: 4 population: 20000 infected: 15 quarrentined: 0 probability: 0.00075\n",
      "day: 5 population: 19999 infected: 25 quarrentined: 1 probability: 0.0012500625031251563\n",
      "day: 6 population: 19999 infected: 50 quarrentined: 1 probability: 0.0025001250062503125\n",
      "day: 7 population: 19996 infected: 75 quarrentined: 4 probability: 0.003750750150030006\n",
      "day: 8 population: 19995 infected: 118 quarrentined: 5 probability: 0.005901475368842211\n",
      "day: 9 population: 19993 infected: 185 quarrentined: 7 probability: 0.009253238633521732\n",
      "day: 10 population: 19989 infected: 291 quarrentined: 11 probability: 0.014558006903797088\n",
      "day: 11 population: 19980 infected: 455 quarrentined: 20 probability: 0.022772772772772773\n",
      "day: 12 population: 19966 infected: 679 quarrentined: 34 probability: 0.03400781328258039\n",
      "day: 13 population: 19943 infected: 1006 quarrentined: 57 probability: 0.050443764729479014\n",
      "day: 14 population: 19903 infected: 1411 quarrentined: 97 probability: 0.07089383510023614\n",
      "day: 15 population: 19850 infected: 1972 quarrentined: 150 probability: 0.09934508816120907\n",
      "day: 16 population: 19771 infected: 2674 quarrentined: 229 probability: 0.13524859642911335\n",
      "day: 17 population: 19649 infected: 3451 quarrentined: 351 probability: 0.17563234770217315\n",
      "day: 18 population: 19438 infected: 4316 quarrentined: 562 probability: 0.22203930445519085\n",
      "day: 19 population: 19175 infected: 5182 quarrentined: 825 probability: 0.27024771838331163\n",
      "day: 20 population: 18829 infected: 6077 quarrentined: 1171 probability: 0.3227468267034893\n",
      "day: 21 population: 18342 infected: 6781 quarrentined: 1658 probability: 0.36969796096390795\n",
      "day: 22 population: 17786 infected: 7288 quarrentined: 2214 probability: 0.4097604857753289\n",
      "day: 23 population: 17022 infected: 7465 quarrentined: 2978 probability: 0.43855011162025614\n",
      "day: 24 population: 16134 infected: 7474 quarrentined: 3866 probability: 0.46324532044130406\n",
      "day: 25 population: 15022 infected: 7045 quarrentined: 4978 probability: 0.4689788310477966\n",
      "day: 26 population: 13881 infected: 6511 quarrentined: 6119 probability: 0.4690584251855054\n",
      "day: 27 population: 12766 infected: 5787 quarrentined: 7234 probability: 0.4533134889550368\n",
      "day: 28 population: 11641 infected: 4984 quarrentined: 8359 probability: 0.4281419122068551\n",
      "day: 29 population: 10609 infected: 4182 quarrentined: 9391 probability: 0.39419360919973606\n",
      "day: 30 population: 9634 infected: 3377 quarrentined: 10366 probability: 0.3505293751297488\n",
      "day: 31 population: 8766 infected: 2634 quarrentined: 11234 probability: 0.3004791238877481\n",
      "day: 32 population: 8107 infected: 2060 quarrentined: 11893 probability: 0.25410139385716046\n",
      "day: 33 population: 7511 infected: 1526 quarrentined: 12489 probability: 0.2031686859273066\n",
      "day: 34 population: 7099 infected: 1155 quarrentined: 12901 probability: 0.16269897168615297\n",
      "day: 35 population: 6751 infected: 833 quarrentined: 13249 probability: 0.12338912753666123\n",
      "day: 36 population: 6505 infected: 611 quarrentined: 13495 probability: 0.09392774788624135\n",
      "day: 37 population: 6302 infected: 421 quarrentined: 13698 probability: 0.06680418914630276\n",
      "day: 38 population: 6158 infected: 289 quarrentined: 13842 probability: 0.04693082169535563\n",
      "day: 39 population: 6078 infected: 218 quarrentined: 13922 probability: 0.03586706153339914\n",
      "day: 40 population: 6009 infected: 155 quarrentined: 13991 probability: 0.02579464137127642\n",
      "day: 41 population: 5957 infected: 107 quarrentined: 14043 probability: 0.01796206144032231\n",
      "day: 42 population: 5922 infected: 75 quarrentined: 14078 probability: 0.012664640324214792\n",
      "day: 43 population: 5900 infected: 53 quarrentined: 14100 probability: 0.008983050847457628\n",
      "day: 44 population: 5889 infected: 42 quarrentined: 14111 probability: 0.007131940906775344\n",
      "day: 45 population: 5871 infected: 24 quarrentined: 14129 probability: 0.004087889626980072\n",
      "day: 46 population: 5859 infected: 13 quarrentined: 14141 probability: 0.002218808670421574\n",
      "day: 47 population: 5854 infected: 8 quarrentined: 14146 probability: 0.0013665869490946361\n",
      "day: 48 population: 5852 infected: 6 quarrentined: 14148 probability: 0.0010252904989747095\n",
      "day: 49 population: 5848 infected: 2 quarrentined: 14152 probability: 0.0003419972640218878\n",
      "day: 50 population: 5848 infected: 2 quarrentined: 14152 probability: 0.0003419972640218878\n",
      "day: 51 population: 5847 infected: 1 quarrentined: 14153 probability: 0.0001710278775440397\n",
      "day: 52 population: 5847 infected: 1 quarrentined: 14153 probability: 0.0001710278775440397\n",
      "day: 53 population: 5847 infected: 1 quarrentined: 14153 probability: 0.0001710278775440397\n",
      "day: 54 population: 5846 infected: 0 quarrentined: 14154 probability: 0.0\n",
      "day: 55 population: 5846 infected: 0 quarrentined: 14154 probability: 0.0\n",
      "day: 56 population: 5846 infected: 0 quarrentined: 14154 probability: 0.0\n",
      "day: 57 population: 5846 infected: 0 quarrentined: 14154 probability: 0.0\n",
      "day: 58 population: 5846 infected: 0 quarrentined: 14154 probability: 0.0\n",
      "day: 59 population: 5846 infected: 0 quarrentined: 14154 probability: 0.0\n",
      "day: 60 population: 5846 infected: 0 quarrentined: 14154 probability: 0.0\n",
      "day: 61 population: 5846 infected: 0 quarrentined: 14154 probability: 0.0\n",
      "day: 62 population: 5846 infected: 0 quarrentined: 14154 probability: 0.0\n",
      "day: 63 population: 5846 infected: 0 quarrentined: 14154 probability: 0.0\n",
      "day: 64 population: 5846 infected: 0 quarrentined: 14154 probability: 0.0\n",
      "day: 65 population: 5846 infected: 0 quarrentined: 14154 probability: 0.0\n",
      "day: 66 population: 5846 infected: 0 quarrentined: 14154 probability: 0.0\n",
      "day: 67 population: 5846 infected: 0 quarrentined: 14154 probability: 0.0\n",
      "day: 68 population: 5846 infected: 0 quarrentined: 14154 probability: 0.0\n",
      "day: 69 population: 5846 infected: 0 quarrentined: 14154 probability: 0.0\n",
      "day: 70 population: 5846 infected: 0 quarrentined: 14154 probability: 0.0\n",
      "day: 71 population: 5846 infected: 0 quarrentined: 14154 probability: 0.0\n",
      "day: 72 population: 5846 infected: 0 quarrentined: 14154 probability: 0.0\n",
      "day: 73 population: 5846 infected: 0 quarrentined: 14154 probability: 0.0\n",
      "day: 74 population: 5846 infected: 0 quarrentined: 14154 probability: 0.0\n",
      "day: 75 population: 5846 infected: 0 quarrentined: 14154 probability: 0.0\n",
      "day: 76 population: 5846 infected: 0 quarrentined: 14154 probability: 0.0\n",
      "day: 77 population: 5846 infected: 0 quarrentined: 14154 probability: 0.0\n",
      "day: 78 population: 5846 infected: 0 quarrentined: 14154 probability: 0.0\n",
      "day: 79 population: 5846 infected: 0 quarrentined: 14154 probability: 0.0\n",
      "day: 80 population: 5846 infected: 0 quarrentined: 14154 probability: 0.0\n",
      "day: 81 population: 5846 infected: 0 quarrentined: 14154 probability: 0.0\n",
      "day: 82 population: 5846 infected: 0 quarrentined: 14154 probability: 0.0\n",
      "day: 83 population: 5846 infected: 0 quarrentined: 14154 probability: 0.0\n",
      "day: 84 population: 5846 infected: 0 quarrentined: 14154 probability: 0.0\n",
      "day: 85 population: 5846 infected: 0 quarrentined: 14154 probability: 0.0\n",
      "day: 86 population: 5846 infected: 0 quarrentined: 14154 probability: 0.0\n",
      "day: 87 population: 5846 infected: 0 quarrentined: 14154 probability: 0.0\n",
      "day: 88 population: 5846 infected: 0 quarrentined: 14154 probability: 0.0\n",
      "day: 89 population: 5846 infected: 0 quarrentined: 14154 probability: 0.0\n",
      "day: 90 population: 5846 infected: 0 quarrentined: 14154 probability: 0.0\n",
      "day: 91 population: 5846 infected: 0 quarrentined: 14154 probability: 0.0\n",
      "day: 92 population: 5846 infected: 0 quarrentined: 14154 probability: 0.0\n",
      "day: 93 population: 5846 infected: 0 quarrentined: 14154 probability: 0.0\n",
      "day: 94 population: 5846 infected: 0 quarrentined: 14154 probability: 0.0\n",
      "day: 95 population: 5846 infected: 0 quarrentined: 14154 probability: 0.0\n",
      "day: 96 population: 5846 infected: 0 quarrentined: 14154 probability: 0.0\n",
      "day: 97 population: 5846 infected: 0 quarrentined: 14154 probability: 0.0\n",
      "day: 98 population: 5846 infected: 0 quarrentined: 14154 probability: 0.0\n",
      "day: 99 population: 5846 infected: 0 quarrentined: 14154 probability: 0.0\n"
     ]
    }
   ],
   "source": [
    "for day in range(n_days):\n",
    "#     plot_plot()\n",
    "\n",
    "    print_stats(day)\n",
    "    \n",
    "    del_pids = []\n",
    "    \n",
    "    rw_normal = {}\n",
    "    rw_effected = {}\n",
    "\n",
    "    rw_normal_edges = []\n",
    "    rw_effected_edges = []\n",
    "\n",
    "    for pid, person in population.items():\n",
    "        current_position = person['at']\n",
    "        _, rw_edges = random_walk(current_position, person)\n",
    "\n",
    "        if person['effected']:\n",
    "            rw_effected[pid] = rw_edges\n",
    "            rw_effected_edges += rw_edges\n",
    "            \n",
    "            person['incubation_period'] -= 1\n",
    "            \n",
    "            if person['incubation_period'] == 0:\n",
    "                quarrentined[pid] = person\n",
    "                del_pids.append(pid)\n",
    "        else:\n",
    "            rw_normal[pid] = rw_edges\n",
    "            rw_normal_edges += rw_edges\n",
    "\n",
    "    contaminated_paths = Counter(rw_effected_edges)\n",
    "\n",
    "    for pid, j in rw_normal.items():\n",
    "        similar_paths = list(set(j).intersection(set(rw_effected_edges)))\n",
    "        \n",
    "        contamination_probability = sum([contaminated_paths[s] for s in similar_paths])\n",
    "\n",
    "        denominator = contamination_confidence + contamination_probability\n",
    "        if np.random.choice([0, 1], p=[contamination_confidence/denominator, contamination_probability/denominator]):\n",
    "            effect_person(population[pid])\n",
    "            \n",
    "    for pid in del_pids:\n",
    "        del population[pid]"
   ]
  },
  {
   "cell_type": "code",
   "execution_count": null,
   "metadata": {},
   "outputs": [],
   "source": []
  },
  {
   "cell_type": "code",
   "execution_count": null,
   "metadata": {},
   "outputs": [],
   "source": []
  },
  {
   "cell_type": "code",
   "execution_count": null,
   "metadata": {},
   "outputs": [],
   "source": []
  },
  {
   "cell_type": "code",
   "execution_count": null,
   "metadata": {},
   "outputs": [],
   "source": []
  },
  {
   "cell_type": "code",
   "execution_count": null,
   "metadata": {},
   "outputs": [],
   "source": []
  },
  {
   "cell_type": "code",
   "execution_count": null,
   "metadata": {},
   "outputs": [],
   "source": []
  },
  {
   "cell_type": "code",
   "execution_count": null,
   "metadata": {},
   "outputs": [],
   "source": []
  },
  {
   "cell_type": "code",
   "execution_count": null,
   "metadata": {},
   "outputs": [],
   "source": []
  },
  {
   "cell_type": "code",
   "execution_count": null,
   "metadata": {},
   "outputs": [],
   "source": []
  },
  {
   "cell_type": "code",
   "execution_count": null,
   "metadata": {},
   "outputs": [],
   "source": []
  }
 ],
 "metadata": {
  "kernelspec": {
   "display_name": "Python 3",
   "language": "python",
   "name": "python3"
  },
  "language_info": {
   "codemirror_mode": {
    "name": "ipython",
    "version": 3
   },
   "file_extension": ".py",
   "mimetype": "text/x-python",
   "name": "python",
   "nbconvert_exporter": "python",
   "pygments_lexer": "ipython3",
   "version": "3.7.4"
  }
 },
 "nbformat": 4,
 "nbformat_minor": 2
}
