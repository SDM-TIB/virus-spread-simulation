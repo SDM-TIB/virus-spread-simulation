{
 "cells": [
  {
   "cell_type": "code",
   "execution_count": 1,
   "metadata": {},
   "outputs": [],
   "source": [
    "import random\n",
    "import matplotlib\n",
    "\n",
    "import numpy as np\n",
    "import pandas as pd\n",
    "import networkx as nx\n",
    "import matplotlib.pyplot as plt\n",
    "\n",
    "from copy import deepcopy\n",
    "from tqdm import tqdm\n",
    "from collections import Counter\n",
    "from scipy.spatial import distance\n",
    "from sklearn.metrics.pairwise import euclidean_distances\n",
    "from IPython.display import clear_output"
   ]
  },
  {
   "cell_type": "code",
   "execution_count": null,
   "metadata": {},
   "outputs": [],
   "source": []
  },
  {
   "cell_type": "code",
   "execution_count": 2,
   "metadata": {},
   "outputs": [],
   "source": [
    "def print_stats(day):\n",
    "    return \"Day:\" + str(day) + \"\\tP:\" + str(len(population)) + \"\\tS:\" + str(get_status(\"free\", True)) + \"\\tI:\" + str(get_status('infected', True)) + \"\\tH:\" + str(len(hospitalised)) + \"\\tC:\" + str(len(cured)) + \"\\tD:\" + str(len(dead)) + \"\\tP+H+D:\" + str(len(population) + len(hospitalised) + len(dead)) + \"\\tprobability:\" + str(round(get_status('infected', True)/len(population), 1))\n"
   ]
  },
  {
   "cell_type": "code",
   "execution_count": 3,
   "metadata": {},
   "outputs": [],
   "source": [
    "def gen_rand_coordinates(n):\n",
    "    x = np.random.randint(low=0, high=2*n, size=n)\n",
    "    y = np.random.randint(low=0, high=2*n, size=n)\n",
    "    \n",
    "    coordinates = [(i, j) for i, j in zip(x, y)]\n",
    "    \n",
    "    return list(set(coordinates)), list(range(len(set(coordinates))))"
   ]
  },
  {
   "cell_type": "code",
   "execution_count": null,
   "metadata": {},
   "outputs": [],
   "source": []
  },
  {
   "cell_type": "code",
   "execution_count": 4,
   "metadata": {},
   "outputs": [],
   "source": [
    "def random_sample(data, n):\n",
    "    idx = np.random.randint(low=0, high=len(data), size=n)\n",
    "    return [data[i] for i in idx], idx"
   ]
  },
  {
   "cell_type": "code",
   "execution_count": 5,
   "metadata": {},
   "outputs": [],
   "source": [
    "def get_status(state, value):\n",
    "    return Counter([p['state']==state for p in population.values()])[value]"
   ]
  },
  {
   "cell_type": "code",
   "execution_count": 6,
   "metadata": {},
   "outputs": [],
   "source": [
    "def get_p_at(effected=True):\n",
    "    return [p['at'] for p in population.values() if p['state']=='infected']"
   ]
  },
  {
   "cell_type": "code",
   "execution_count": 7,
   "metadata": {},
   "outputs": [],
   "source": [
    "def effect_person(person):\n",
    "    person['state'] = 'infected'\n",
    "    person['incubation_period'] = np.random.randint(low=2, high=12)"
   ]
  },
  {
   "cell_type": "code",
   "execution_count": 8,
   "metadata": {},
   "outputs": [],
   "source": [
    "def plot_plot(rw_normal_edges=None, rw_effected_edges=None, clear=False, iter_=0):\n",
    "    clear_output(wait=clear)\n",
    "    \n",
    "    pop = [p['at'] for i, p in population.items()]\n",
    "    eff = get_p_at()\n",
    "\n",
    "    plt.figure(0, figsize=(25, 25))\n",
    "    \n",
    "    nx.draw_networkx_nodes(G, pos,\n",
    "                           nodelist=pop,\n",
    "                           node_color='blue', node_size=5)\n",
    "\n",
    "    nx.draw_networkx_nodes(G, pos,\n",
    "                           nodelist=eff,\n",
    "                           node_color='r', node_size=50)\n",
    "\n",
    "    nx.draw_networkx_edges(G, pos,\n",
    "                           edgelist=edges,\n",
    "                           width=0.3,alpha=0.3,edge_color='b')\n",
    "\n",
    "    if rw_normal_edges is not None:\n",
    "        nx.draw_networkx_edges(G,pos,\n",
    "                               edgelist=rw_normal_edges,\n",
    "                               width=0.5,alpha=0.3,edge_color='y')\n",
    "\n",
    "        nx.draw_networkx_edges(G,pos,\n",
    "                               edgelist=rw_effected_edges,\n",
    "                               width=2,alpha=0.3,edge_color='red')\n",
    "\n",
    "    nx.draw_networkx(G, pos, node_size=1, with_labels=False)\n",
    "    s = \"Day: \"+str(iter_)+\" | Population: \" + str(len(population)) + \" | Infected: \" + str(get_status('infected', True)) + \" | Hospitalised: \" + str(len(hospitalised)) + \" | Infection Probability: \" + str(round(get_status('infected', True)/len(population), 2)) + \" | Cured: \" + str(len(cured)) + \" | Dead: \" + str(len(dead))\n",
    "    plt.title(s, fontsize=20)\n",
    "    plt.savefig(\"image\"+str(iter_)+\".png\", format=\"PNG\")\n",
    "    plt.show()"
   ]
  },
  {
   "cell_type": "code",
   "execution_count": 9,
   "metadata": {},
   "outputs": [],
   "source": [
    "def is_dead(p):\n",
    "    \n",
    "    all_probs = []\n",
    "    \n",
    "    for i in p['comorbidities']:\n",
    "        if i in comorbidities_deceased:\n",
    "            k = comorbidities_deceased[i]\n",
    "            ps = np.array([100-k, k])/100\n",
    "            all_probs.append(ps)\n",
    "\n",
    "#     if len(prob_comorbidities) > 1:\n",
    "#         print(prob_comorbidities)\n",
    "#         prob_comorbidities = np.array(prob_comorbidities).sum(1)\n",
    "#         print(prob_comorbidities)\n",
    "\n",
    "#             if np.random.choice([False, True], p=ps):\n",
    "#                 return True\n",
    "\n",
    "    age = p['age']\n",
    "    if age <= 40: #age >= 10 and age \n",
    "        prob = 0.2\n",
    "    elif age >= 40 and age <= 49:\n",
    "        prob = 0.4\n",
    "    elif age >= 50 and age <= 59:\n",
    "        prob = 1.3\n",
    "    elif age >= 60 and age <= 69:\n",
    "        prob = 3.6\n",
    "    elif age >= 70 and age <= 79:\n",
    "        prob = 8.0\n",
    "    elif age >= 80:\n",
    "        prob = 14.8\n",
    "\n",
    "    all_probs.append(np.array([100-prob, prob])/100)\n",
    "    \n",
    "    prob_n_comorbidities = n_comorbidities_deceased[p['n_comorbidities']]\n",
    "    all_probs.append(np.array([1-prob_n_comorbidities, prob_n_comorbidities]))\n",
    "    \n",
    "    master_prob = np.array(all_probs).mean(0)\n",
    "\n",
    "#     prob_age = np.random.choice([False, True], p=prob_/100)\n",
    "#     prob_comorbidities = np.random.choice([False, True], p=[1-n, n])\n",
    "\n",
    "#     print(prob_age, prob_comorbidities, master_prob)\n",
    "\n",
    "    master_prob_decision = np.random.choice([False, True], p=master_prob)\n",
    "    \n",
    "    if master_prob_decision:\n",
    "        return True\n",
    "    return False"
   ]
  },
  {
   "cell_type": "code",
   "execution_count": null,
   "metadata": {},
   "outputs": [],
   "source": []
  },
  {
   "cell_type": "code",
   "execution_count": 10,
   "metadata": {},
   "outputs": [],
   "source": [
    "n_days = 200"
   ]
  },
  {
   "cell_type": "code",
   "execution_count": 11,
   "metadata": {},
   "outputs": [],
   "source": [
    "n_nodes = 5000\n",
    "connectivity = 5\n",
    "n_population = n_nodes * 2\n",
    "n_effected_people = 5 #int(n_population/100)\n",
    "\n",
    "contamination_confidence = 500"
   ]
  },
  {
   "cell_type": "code",
   "execution_count": 12,
   "metadata": {},
   "outputs": [],
   "source": [
    "coordinates, coordinates_idx = gen_rand_coordinates(n_nodes)"
   ]
  },
  {
   "cell_type": "code",
   "execution_count": 13,
   "metadata": {},
   "outputs": [],
   "source": [
    "_, p_coord = random_sample(coordinates, n_population)"
   ]
  },
  {
   "cell_type": "code",
   "execution_count": 14,
   "metadata": {},
   "outputs": [],
   "source": [
    "# p_ages = np.random.randint(low=2, high=80, size=n_population)"
   ]
  },
  {
   "cell_type": "code",
   "execution_count": 15,
   "metadata": {},
   "outputs": [],
   "source": [
    "### Germany\n",
    "\n",
    "# 0-14 years: 12.83% (male 5,299,798 /female 5,024,184)\n",
    "# 15-24 years: 9.98% (male 4,092,901 /female 3,933,997)\n",
    "# 25-54 years: 39.87% (male 16,181,931 /female 15,896,528)\n",
    "# 55-64 years: 14.96% (male 5,989,111 /female 6,047,449)\n",
    "# 65 years and over: 22.36% (male 7,930,590 /female 10,061,248) (2018 est.)"
   ]
  },
  {
   "cell_type": "code",
   "execution_count": 16,
   "metadata": {},
   "outputs": [],
   "source": [
    "# Diseases N %\n",
    "# schemic heart disease 145 30.1\n",
    "# Atrial Fibrillation 106 22.0\n",
    "# Stroke 54 11.2\n",
    "# Hypertension 355 73.8\n",
    "# Diabetes 163 33.9\n",
    "# Dementia 57 11.9\n",
    "# COPD 66 13.7\n",
    "# Active cancer in the past 5 years 94 19.5\n",
    "# Chronic liver disease 18 3.7\n",
    "# Chronic renal failure 97 20.2"
   ]
  },
  {
   "cell_type": "code",
   "execution_count": 17,
   "metadata": {},
   "outputs": [],
   "source": [
    "#  0 comorbidities 6 1.2\n",
    "#  1 comorbidity 113 23.5\n",
    "#  2 comorbidities 128 26.6\n",
    "#  3 comorbidities and over 234 48.6"
   ]
  },
  {
   "cell_type": "code",
   "execution_count": null,
   "metadata": {},
   "outputs": [],
   "source": []
  },
  {
   "cell_type": "code",
   "execution_count": 18,
   "metadata": {},
   "outputs": [],
   "source": [
    "comorbidities_deceased = {'Congestive Heart Failure': 30.1, 'Stroke': 11.2, 'Hypertension': 73.8,\n",
    "                         'Diabetes Mellitus': 33.9, 'Dementia': 11.9, 'Respiratory Disease': 13.7}"
   ]
  },
  {
   "cell_type": "code",
   "execution_count": null,
   "metadata": {},
   "outputs": [],
   "source": []
  },
  {
   "cell_type": "code",
   "execution_count": 19,
   "metadata": {},
   "outputs": [],
   "source": [
    "n_comorbidities_deceased = np.array([1.3, 23.5, 26.6, 48.6])"
   ]
  },
  {
   "cell_type": "code",
   "execution_count": 20,
   "metadata": {},
   "outputs": [],
   "source": [
    "n_comorbidities_deceased = n_comorbidities_deceased/n_comorbidities_deceased.sum()"
   ]
  },
  {
   "cell_type": "code",
   "execution_count": null,
   "metadata": {},
   "outputs": [],
   "source": []
  },
  {
   "cell_type": "code",
   "execution_count": 21,
   "metadata": {},
   "outputs": [],
   "source": [
    "age_dist = np.array([12.83, 9.98, 39.87, 14.96, 22.36])"
   ]
  },
  {
   "cell_type": "code",
   "execution_count": 22,
   "metadata": {},
   "outputs": [],
   "source": [
    "p_ages = []\n",
    "p_n_comorbidities = []\n",
    "\n",
    "for i in range(n_population):\n",
    "    age_dist_sampled = np.random.choice([0, 1, 2, 3, 4], p=age_dist/100)\n",
    "    \n",
    "    if age_dist_sampled == 0:\n",
    "        age_sampled = np.random.randint(low=0, high=14)\n",
    "        comorbiditiy_sampled = 0 #np.random.choice([0, 1, 2, 3], p=[0.90, 0.05, 0.03, 0.02])\n",
    "        \n",
    "    elif age_dist_sampled == 1:\n",
    "        age_sampled = np.random.randint(low=15, high=24)\n",
    "        comorbiditiy_sampled = np.random.choice([0, 1, 2, 3], p=[0.80, 0.10, 0.06, 0.04])\n",
    "        \n",
    "    elif age_dist_sampled == 2:\n",
    "        age_sampled = np.random.randint(low=25, high=54)\n",
    "        comorbiditiy_sampled = np.random.choice([0, 1, 2, 3], p=[0.60, 0.20, 0.10, 0.10])\n",
    "        \n",
    "    elif age_dist_sampled == 3:\n",
    "        age_sampled = np.random.randint(low=55, high=64)\n",
    "        comorbiditiy_sampled = np.random.choice([0, 1, 2, 3], p=[0.40, 0.30, 0.15, 0.15])\n",
    "        \n",
    "    elif age_dist_sampled == 4:\n",
    "        age_sampled = np.random.randint(low=65, high=100)\n",
    "        comorbiditiy_sampled = np.random.choice([0, 1, 2, 3], p=[0.30, 0.30, 0.20, 0.20])\n",
    "        \n",
    "    p_ages.append(age_sampled)\n",
    "    p_n_comorbidities.append(comorbiditiy_sampled)"
   ]
  },
  {
   "cell_type": "code",
   "execution_count": null,
   "metadata": {},
   "outputs": [],
   "source": []
  },
  {
   "cell_type": "code",
   "execution_count": 23,
   "metadata": {},
   "outputs": [],
   "source": [
    "# pd.DataFrame(p_ages).hist(bins=50)"
   ]
  },
  {
   "cell_type": "code",
   "execution_count": 24,
   "metadata": {
    "scrolled": true
   },
   "outputs": [],
   "source": [
    "# k = pd.DataFrame([(np.array(p_ages)/10).astype(int), p_n_comorbidities]).T\n",
    "\n",
    "# for i in range(10):\n",
    "#     k[k[0]==i][1].hist()\n",
    "#     plt.title(\"age group:\"+str(i)+\" | total: \" + str(k[k[0]==i].shape[0]))\n",
    "#     plt.show()"
   ]
  },
  {
   "cell_type": "code",
   "execution_count": null,
   "metadata": {},
   "outputs": [],
   "source": []
  },
  {
   "cell_type": "code",
   "execution_count": 25,
   "metadata": {},
   "outputs": [],
   "source": [
    "age_comorbidities = pd.read_csv(\"age_comorbitidites.csv\")"
   ]
  },
  {
   "cell_type": "code",
   "execution_count": 26,
   "metadata": {},
   "outputs": [],
   "source": [
    "age_comorbidities.iloc[:, 1] = age_comorbidities.iloc[:, 1]/np.sum(age_comorbidities.iloc[:, 1])\n",
    "age_comorbidities.iloc[:, 2] = age_comorbidities.iloc[:, 2]/np.sum(age_comorbidities.iloc[:, 2])\n",
    "age_comorbidities.iloc[:, 3] = age_comorbidities.iloc[:, 3]/np.sum(age_comorbidities.iloc[:, 3])\n",
    "age_comorbidities.iloc[:, 4] = age_comorbidities.iloc[:, 4]/np.sum(age_comorbidities.iloc[:, 4])"
   ]
  },
  {
   "cell_type": "code",
   "execution_count": 27,
   "metadata": {},
   "outputs": [],
   "source": [
    "comorbidities = age_comorbidities.iloc[:, 0]"
   ]
  },
  {
   "cell_type": "code",
   "execution_count": 28,
   "metadata": {},
   "outputs": [
    {
     "data": {
      "text/html": [
       "<div>\n",
       "<style scoped>\n",
       "    .dataframe tbody tr th:only-of-type {\n",
       "        vertical-align: middle;\n",
       "    }\n",
       "\n",
       "    .dataframe tbody tr th {\n",
       "        vertical-align: top;\n",
       "    }\n",
       "\n",
       "    .dataframe thead th {\n",
       "        text-align: right;\n",
       "    }\n",
       "</style>\n",
       "<table border=\"1\" class=\"dataframe\">\n",
       "  <thead>\n",
       "    <tr style=\"text-align: right;\">\n",
       "      <th></th>\n",
       "      <th>Comorbid Ailment</th>\n",
       "      <th>18-53</th>\n",
       "      <th>54-64</th>\n",
       "      <th>65-73</th>\n",
       "      <th>74-102</th>\n",
       "    </tr>\n",
       "  </thead>\n",
       "  <tbody>\n",
       "    <tr>\n",
       "      <td>0</td>\n",
       "      <td>Myocardial Infarct</td>\n",
       "      <td>0.023754</td>\n",
       "      <td>0.043632</td>\n",
       "      <td>0.053722</td>\n",
       "      <td>0.057679</td>\n",
       "    </tr>\n",
       "    <tr>\n",
       "      <td>1</td>\n",
       "      <td>Angina/ Artery Disease</td>\n",
       "      <td>0.031112</td>\n",
       "      <td>0.070618</td>\n",
       "      <td>0.094730</td>\n",
       "      <td>0.096760</td>\n",
       "    </tr>\n",
       "    <tr>\n",
       "      <td>2</td>\n",
       "      <td>Congestive Heart Failure</td>\n",
       "      <td>0.011352</td>\n",
       "      <td>0.018916</td>\n",
       "      <td>0.020504</td>\n",
       "      <td>0.041738</td>\n",
       "    </tr>\n",
       "    <tr>\n",
       "      <td>3</td>\n",
       "      <td>Hypertension</td>\n",
       "      <td>0.283582</td>\n",
       "      <td>0.326356</td>\n",
       "      <td>0.303363</td>\n",
       "      <td>0.252485</td>\n",
       "    </tr>\n",
       "    <tr>\n",
       "      <td>4</td>\n",
       "      <td>Arrhythmias</td>\n",
       "      <td>0.014505</td>\n",
       "      <td>0.025725</td>\n",
       "      <td>0.037216</td>\n",
       "      <td>0.065135</td>\n",
       "    </tr>\n",
       "  </tbody>\n",
       "</table>\n",
       "</div>"
      ],
      "text/plain": [
       "           Comorbid Ailment     18-53     54-64     65-73    74-102\n",
       "0        Myocardial Infarct  0.023754  0.043632  0.053722  0.057679\n",
       "1    Angina/ Artery Disease  0.031112  0.070618  0.094730  0.096760\n",
       "2  Congestive Heart Failure  0.011352  0.018916  0.020504  0.041738\n",
       "3              Hypertension  0.283582  0.326356  0.303363  0.252485\n",
       "4               Arrhythmias  0.014505  0.025725  0.037216  0.065135"
      ]
     },
     "execution_count": 28,
     "metadata": {},
     "output_type": "execute_result"
    }
   ],
   "source": [
    "age_comorbidities.head()"
   ]
  },
  {
   "cell_type": "code",
   "execution_count": null,
   "metadata": {},
   "outputs": [],
   "source": []
  },
  {
   "cell_type": "code",
   "execution_count": 29,
   "metadata": {},
   "outputs": [],
   "source": [
    "p_comorbidities = []\n",
    "\n",
    "for i, j in zip(p_ages, p_n_comorbidities):\n",
    "    c = []\n",
    "    if i < 18:\n",
    "        c = []\n",
    "    elif i >= 18 and i <= 53:\n",
    "        c = np.random.choice(comorbidities, p=age_comorbidities.iloc[:, 1], size=j, replace=False)\n",
    "    elif i >= 54 and i <= 64:\n",
    "        c = np.random.choice(comorbidities, p=age_comorbidities.iloc[:, 2], size=j, replace=False)\n",
    "    elif i >= 65 and i <= 73:\n",
    "        c = np.random.choice(comorbidities, p=age_comorbidities.iloc[:, 3], size=j, replace=False)\n",
    "    elif i >= 74:\n",
    "        c = np.random.choice(comorbidities, p=age_comorbidities.iloc[:, 4], size=j, replace=False)\n",
    "    p_comorbidities.append(list(c))"
   ]
  },
  {
   "cell_type": "code",
   "execution_count": null,
   "metadata": {},
   "outputs": [],
   "source": []
  },
  {
   "cell_type": "code",
   "execution_count": 30,
   "metadata": {},
   "outputs": [],
   "source": [
    "population = {i:{'at': j, 'age': k, 'state': 'free', \n",
    "                 'incubation_period':-1, 'comorbidities': m, 'n_comorbidities':l}\n",
    "              for i, j, k, l, m in zip(range(n_population), p_coord, p_ages, p_n_comorbidities, p_comorbidities)}"
   ]
  },
  {
   "cell_type": "code",
   "execution_count": null,
   "metadata": {},
   "outputs": [],
   "source": []
  },
  {
   "cell_type": "code",
   "execution_count": 31,
   "metadata": {},
   "outputs": [
    {
     "name": "stdout",
     "output_type": "stream",
     "text": [
      "[3858, 5466, 9210, 9774]\n",
      "[9710]\n",
      "[9340]\n",
      "[2871, 3693, 9134]\n",
      "[4557, 5368]\n"
     ]
    }
   ],
   "source": [
    "effected, _ = random_sample(list(population.keys()), n_effected_people)\n",
    "\n",
    "nodes_cluster = {i:[] for i in range(n_nodes)}\n",
    "for pid, person in population.items():\n",
    "    nodes_cluster[person['at']].append(pid)\n",
    "    \n",
    "for i in effected:\n",
    "    effect_person(population[i])\n",
    "    print(nodes_cluster[population[i]['at']])\n",
    "del effected"
   ]
  },
  {
   "cell_type": "code",
   "execution_count": null,
   "metadata": {},
   "outputs": [],
   "source": []
  },
  {
   "cell_type": "code",
   "execution_count": 32,
   "metadata": {
    "scrolled": false
   },
   "outputs": [
    {
     "name": "stdout",
     "output_type": "stream",
     "text": [
      "0\n",
      "1597\n",
      "3109\n",
      "4588\n",
      "6054\n",
      "7531\n",
      "8968\n",
      "10356\n",
      "11667\n",
      "13006\n",
      "14345\n",
      "15612\n",
      "16843\n",
      "18029\n",
      "19247\n",
      "20434\n",
      "21587\n",
      "22715\n",
      "23813\n",
      "24880\n"
     ]
    }
   ],
   "source": [
    "edges = []\n",
    "c = np.array(coordinates)\n",
    "while len(set(edges)) < n_nodes * connectivity:\n",
    "    print(len(set(edges)))\n",
    "    t, t_idx = random_sample(c, 1000)\n",
    "    u, u_idx = random_sample(c, 1000)\n",
    "    dist = euclidean_distances(t, u)\n",
    "    for idx, i in enumerate(dist):\n",
    "        a = np.argsort(i)[:2]\n",
    "        edges += [(t_idx[idx], u_idx[j]) for j in a if i[j]<(n_nodes/10) and i[j] != 0]\n",
    "edges = set(edges)"
   ]
  },
  {
   "cell_type": "code",
   "execution_count": 33,
   "metadata": {},
   "outputs": [],
   "source": [
    "neighbours = {i:[] for i in coordinates_idx}\n",
    "for i, j in edges:\n",
    "    neighbours[i] += [j]\n",
    "    neighbours[j] += [i]"
   ]
  },
  {
   "cell_type": "code",
   "execution_count": 34,
   "metadata": {},
   "outputs": [
    {
     "data": {
      "text/plain": [
       "(5000, 10000, 25956, 5)"
      ]
     },
     "execution_count": 34,
     "metadata": {},
     "output_type": "execute_result"
    }
   ],
   "source": [
    "len(coordinates), len(population), len(edges), get_status('infected', True)"
   ]
  },
  {
   "cell_type": "code",
   "execution_count": null,
   "metadata": {},
   "outputs": [],
   "source": []
  },
  {
   "cell_type": "code",
   "execution_count": 35,
   "metadata": {},
   "outputs": [],
   "source": [
    "# G_dash = nx.Graph()\n",
    "# for p in tqdm(range(len(coordinates))):\n",
    "#     G_dash.add_node(p, pos=[coordinates[p][0], coordinates[p][1]])\n",
    "# pos = nx.get_node_attributes(G_dash, 'pos')\n",
    "# G = deepcopy(G_dash)"
   ]
  },
  {
   "cell_type": "code",
   "execution_count": null,
   "metadata": {},
   "outputs": [],
   "source": []
  },
  {
   "cell_type": "code",
   "execution_count": 36,
   "metadata": {},
   "outputs": [],
   "source": [
    "hospitalised, cured, dead = {}, {}, {}"
   ]
  },
  {
   "cell_type": "code",
   "execution_count": null,
   "metadata": {},
   "outputs": [],
   "source": []
  },
  {
   "cell_type": "code",
   "execution_count": 37,
   "metadata": {},
   "outputs": [],
   "source": [
    "def random_walk(current_position, day):\n",
    "    path = []\n",
    "    edges = []\n",
    "    path.append(deepcopy(current_position))\n",
    "  \n",
    "    m = 40\n",
    "    n = np.random.randint(0, m)\n",
    "        \n",
    "    for i in range(n):\n",
    "        person_neighbours = neighbours[current_position]\n",
    "        if len(person_neighbours) > 0:\n",
    "            next_position = np.random.choice(person_neighbours)\n",
    "            path.append(next_position)\n",
    "            edges.append((current_position, next_position))\n",
    "            current_position = deepcopy(next_position)\n",
    "    return path, edges"
   ]
  },
  {
   "cell_type": "code",
   "execution_count": null,
   "metadata": {},
   "outputs": [],
   "source": []
  },
  {
   "cell_type": "code",
   "execution_count": 38,
   "metadata": {},
   "outputs": [],
   "source": [
    "# def random_walk(current_position, person, day):\n",
    "#     path = []\n",
    "#     edges = []\n",
    "#     path.append(deepcopy(current_position))\n",
    "    \n",
    "#     percentage = 0 #int(len(hospitalised)/2000)\n",
    "    \n",
    "#     if day > 15:\n",
    "#         percentage = 3\n",
    "#     if day > 30:\n",
    "#         percentage = 6\n",
    "    \n",
    "#     if person['age']>15 and person['age']<60:\n",
    "#         m = 40\n",
    "#         m_ = int(m/10)\n",
    "#         m = m - (m_*percentage)\n",
    "#         n = np.random.randint(0, m)\n",
    "        \n",
    "#     else:        \n",
    "#         m = 30\n",
    "#         m_ = int(m/10)\n",
    "#         m = m - (m_*percentage)\n",
    "#         n = np.random.randint(0, m)\n",
    "        \n",
    "#     for i in range(n):\n",
    "#         person_neighbours = neighbours[current_position]\n",
    "#         if len(person_neighbours) > 0:\n",
    "#             next_position = np.random.choice(person_neighbours)\n",
    "#             path.append(next_position)\n",
    "#             edges.append((current_position, next_position))\n",
    "#             current_position = deepcopy(next_position)\n",
    "#     return path, edges"
   ]
  },
  {
   "cell_type": "code",
   "execution_count": null,
   "metadata": {},
   "outputs": [],
   "source": []
  },
  {
   "cell_type": "code",
   "execution_count": 39,
   "metadata": {},
   "outputs": [],
   "source": [
    "def chunks(l, n):\n",
    "    return [list(l[i:i+n]) for i in range(0, len(l), n)]"
   ]
  },
  {
   "cell_type": "code",
   "execution_count": null,
   "metadata": {},
   "outputs": [],
   "source": []
  },
  {
   "cell_type": "code",
   "execution_count": null,
   "metadata": {
    "scrolled": false
   },
   "outputs": [
    {
     "name": "stdout",
     "output_type": "stream",
     "text": [
      "Day:0\tP:10000\tS:9995\tI:5\tH:0\tC:0\tD:0\tP+H+D:10000\tprobability:0.0\n",
      "Day:1\tP:9999\tS:9994\tI:5\tH:1\tC:0\tD:0\tP+H+D:10000\tprobability:0.0\n",
      "Day:2\tP:9999\tS:9994\tI:5\tH:1\tC:0\tD:0\tP+H+D:10000\tprobability:0.0\n",
      "Day:3\tP:9999\tS:9994\tI:5\tH:1\tC:0\tD:0\tP+H+D:10000\tprobability:0.0\n",
      "Day:4\tP:9999\tS:9994\tI:5\tH:1\tC:0\tD:0\tP+H+D:10000\tprobability:0.0\n",
      "Day:5\tP:9998\tS:9993\tI:5\tH:2\tC:0\tD:0\tP+H+D:10000\tprobability:0.0\n",
      "Day:6\tP:9996\tS:9992\tI:4\tH:4\tC:0\tD:0\tP+H+D:10000\tprobability:0.0\n",
      "Day:7\tP:9995\tS:9990\tI:5\tH:5\tC:0\tD:0\tP+H+D:10000\tprobability:0.0\n",
      "Day:8\tP:9995\tS:9990\tI:4\tH:5\tC:1\tD:0\tP+H+D:10000\tprobability:0.0\n",
      "Day:9\tP:9993\tS:9989\tI:3\tH:7\tC:1\tD:0\tP+H+D:10000\tprobability:0.0\n",
      "Day:10\tP:9994\tS:9988\tI:4\tH:6\tC:2\tD:0\tP+H+D:10000\tprobability:0.0\n",
      "Day:11\tP:9994\tS:9987\tI:4\tH:5\tC:3\tD:1\tP+H+D:10000\tprobability:0.0\n",
      "Day:12\tP:9994\tS:9986\tI:5\tH:5\tC:3\tD:1\tP+H+D:10000\tprobability:0.0\n",
      "Day:13\tP:9993\tS:9986\tI:4\tH:6\tC:3\tD:1\tP+H+D:10000\tprobability:0.0\n",
      "Day:14\tP:9994\tS:9985\tI:5\tH:5\tC:4\tD:1\tP+H+D:10000\tprobability:0.0\n",
      "Day:15\tP:9994\tS:9984\tI:5\tH:4\tC:5\tD:2\tP+H+D:10000\tprobability:0.0\n",
      "Day:16\tP:9995\tS:9983\tI:6\tH:3\tC:6\tD:2\tP+H+D:10000\tprobability:0.0\n",
      "Day:17\tP:9995\tS:9983\tI:6\tH:3\tC:6\tD:2\tP+H+D:10000\tprobability:0.0\n",
      "Day:18\tP:9992\tS:9982\tI:4\tH:6\tC:6\tD:2\tP+H+D:10000\tprobability:0.0\n",
      "Day:19\tP:9992\tS:9980\tI:6\tH:6\tC:6\tD:2\tP+H+D:10000\tprobability:0.0\n",
      "Day:20\tP:9991\tS:9980\tI:4\tH:7\tC:7\tD:2\tP+H+D:10000\tprobability:0.0\n",
      "Day:21\tP:9990\tS:9978\tI:4\tH:8\tC:8\tD:2\tP+H+D:10000\tprobability:0.0\n",
      "Day:22\tP:9991\tS:9976\tI:6\tH:6\tC:9\tD:3\tP+H+D:10000\tprobability:0.0\n",
      "Day:23\tP:9989\tS:9976\tI:4\tH:8\tC:9\tD:3\tP+H+D:10000\tprobability:0.0\n",
      "Day:24\tP:9988\tS:9975\tI:4\tH:9\tC:9\tD:3\tP+H+D:10000\tprobability:0.0\n",
      "Day:25\tP:9988\tS:9975\tI:4\tH:9\tC:9\tD:3\tP+H+D:10000\tprobability:0.0\n",
      "Day:26\tP:9990\tS:9974\tI:5\tH:7\tC:11\tD:3\tP+H+D:10000\tprobability:0.0\n",
      "Day:27\tP:9990\tS:9972\tI:7\tH:7\tC:11\tD:3\tP+H+D:10000\tprobability:0.0\n",
      "Day:28\tP:9992\tS:9968\tI:11\tH:5\tC:13\tD:3\tP+H+D:10000\tprobability:0.0\n",
      "Day:29\tP:9990\tS:9968\tI:9\tH:7\tC:13\tD:3\tP+H+D:10000\tprobability:0.0\n",
      "Day:30\tP:9989\tS:9966\tI:10\tH:8\tC:13\tD:3\tP+H+D:10000\tprobability:0.0\n",
      "Day:31\tP:9989\tS:9964\tI:10\tH:7\tC:15\tD:4\tP+H+D:10000\tprobability:0.0\n",
      "Day:32\tP:9987\tS:9962\tI:10\tH:9\tC:15\tD:4\tP+H+D:10000\tprobability:0.0\n",
      "Day:33\tP:9988\tS:9961\tI:10\tH:8\tC:17\tD:4\tP+H+D:10000\tprobability:0.0\n"
     ]
    }
   ],
   "source": [
    "history = []\n",
    "\n",
    "k = []\n",
    "\n",
    "n_chunk = 1\n",
    "\n",
    "for day in range(n_days):\n",
    "    \n",
    "    nodes_cluster = {i:[] for i in range(n_nodes)}\n",
    "    for pid, person in population.items():\n",
    "        nodes_cluster[person['at']].append(pid)\n",
    "\n",
    "    groups = []\n",
    "\n",
    "    if day >60:\n",
    "        n_chunk = 3\n",
    "    if day >90:\n",
    "        n_chunk = 2\n",
    "        \n",
    "    for node_id, node_people in nodes_cluster.items():\n",
    "        groups += chunks(node_people, n_chunk)\n",
    "        \n",
    "    del_pids, del_hids = [], []\n",
    "    \n",
    "    rw_normal = {}\n",
    "    rw_effected = {}\n",
    "\n",
    "    rw_normal_edges = []\n",
    "    rw_effected_edges = []\n",
    "\n",
    "    for chunk in groups:\n",
    "\n",
    "        init_node = population[chunk[0]]['at']\n",
    "        _, rw_edges = random_walk(init_node, -1)\n",
    "\n",
    "        for pid in chunk:\n",
    "            person = population[pid]\n",
    "            \n",
    "            k.append(len(rw_edges))\n",
    "\n",
    "            if person['state']=='infected':\n",
    "                rw_effected[pid] = rw_edges\n",
    "                rw_effected_edges += rw_edges\n",
    "\n",
    "                person['incubation_period'] -= 1\n",
    "\n",
    "                if person['incubation_period'] == 0:\n",
    "                    person['end_period'] = np.random.randint(5, 15)\n",
    "                    person['state'] = 'hospitalised'\n",
    "                    hospitalised[pid] = person\n",
    "                    del_pids.append(pid)\n",
    "            else:\n",
    "                rw_normal[pid] = rw_edges\n",
    "                rw_normal_edges += rw_edges\n",
    "\n",
    "    contaminated_paths = Counter(rw_effected_edges)\n",
    "\n",
    "    for pid, person in hospitalised.items():\n",
    "        person['end_period'] -= 1\n",
    "\n",
    "        if person['end_period'] == 0:\n",
    "            is_dead_ = is_dead(person)\n",
    "            if is_dead_:\n",
    "                person['state'] = 'dead'\n",
    "                dead[pid] = person\n",
    "            else:\n",
    "                person['state'] = 'cured'\n",
    "                cured[pid] = person\n",
    "                population[pid] = person\n",
    "            del_hids.append(pid)\n",
    "\n",
    "    for chunk in groups:\n",
    "\n",
    "        group_infected = True in [population[c]['state']=='infected' for c in chunk]\n",
    "\n",
    "        for pid in chunk:\n",
    "            if population[pid]['state'] == 'free':\n",
    "                similar_paths = list(set(rw_normal[pid]).intersection(set(rw_effected_edges)))\n",
    "\n",
    "                contamination_probability = sum([contaminated_paths[s] for s in similar_paths])\n",
    "                denominator = contamination_confidence + contamination_probability\n",
    "                t_prob = [contamination_confidence/denominator, contamination_probability/denominator]\n",
    "\n",
    "                if n_chunk > 1:\n",
    "                    group_infection_prob = [1.0, 0.0]\n",
    "                    if group_infected:\n",
    "                        group_infection_prob = [0.5, 0.5]\n",
    "                    group_infection_prob = [0.9 * i for i in group_infection_prob]\n",
    "                    \n",
    "                    t_prob = [0.1 * i for i in t_prob]\n",
    "                    t_prob = [i+j for i, j in zip(group_infection_prob, t_prob)]\n",
    "\n",
    "                t = np.random.choice([0, 1], p=t_prob)\n",
    "                if t:\n",
    "                    effect_person(population[pid])\n",
    "\n",
    "    for pid in del_pids:\n",
    "        del population[pid]\n",
    "\n",
    "    for pid in del_hids:\n",
    "        del hospitalised[pid]\n",
    "\n",
    "    history.append([len(population), get_status(\"free\", True), get_status('infected', True), len(hospitalised), len(cured), len(dead)])\n",
    "\n",
    "    print(print_stats(day))"
   ]
  },
  {
   "cell_type": "code",
   "execution_count": null,
   "metadata": {},
   "outputs": [],
   "source": [
    "plt.plot(np.array(history)[:, 0], label=\"Free Population | Free to roam\")\n",
    "plt.plot(np.array(history)[:, 1], label=\"Susceptible\")\n",
    "plt.plot(np.array(history)[:, 2], label=\"Infected\")\n",
    "plt.plot(np.array(history)[:, 3], label=\"Hospitalised\")\n",
    "plt.plot(np.array(history)[:, 4], label=\"Cured\")\n",
    "plt.plot(np.array(history)[:, 5], label=\"Dead\")\n",
    "plt.title('8000 Population | Day 15: 3 people | Day 30: 2 people')\n",
    "plt.ylabel('Count of population')\n",
    "plt.xlabel('Days')\n",
    "plt.legend(loc='best')\n",
    "plt.rcParams[\"figure.figsize\"]=10,7\n",
    "plt.show()"
   ]
  },
  {
   "cell_type": "code",
   "execution_count": null,
   "metadata": {},
   "outputs": [],
   "source": []
  },
  {
   "cell_type": "code",
   "execution_count": null,
   "metadata": {},
   "outputs": [],
   "source": []
  },
  {
   "cell_type": "code",
   "execution_count": null,
   "metadata": {},
   "outputs": [],
   "source": []
  },
  {
   "cell_type": "code",
   "execution_count": null,
   "metadata": {},
   "outputs": [],
   "source": []
  },
  {
   "cell_type": "code",
   "execution_count": null,
   "metadata": {},
   "outputs": [],
   "source": []
  },
  {
   "cell_type": "code",
   "execution_count": null,
   "metadata": {},
   "outputs": [],
   "source": []
  },
  {
   "cell_type": "code",
   "execution_count": null,
   "metadata": {},
   "outputs": [],
   "source": []
  },
  {
   "cell_type": "code",
   "execution_count": null,
   "metadata": {},
   "outputs": [],
   "source": []
  },
  {
   "cell_type": "code",
   "execution_count": null,
   "metadata": {},
   "outputs": [],
   "source": []
  },
  {
   "cell_type": "code",
   "execution_count": null,
   "metadata": {},
   "outputs": [],
   "source": []
  },
  {
   "cell_type": "code",
   "execution_count": null,
   "metadata": {
    "scrolled": false
   },
   "outputs": [],
   "source": [
    "# history = []\n",
    "\n",
    "# for day in range(n_days):\n",
    "\n",
    "# #     print(print_stats(day))\n",
    "\n",
    "#     del_pids, del_hids = [], []\n",
    "    \n",
    "#     rw_normal = {}\n",
    "#     rw_effected = {}\n",
    "\n",
    "#     rw_normal_edges = []\n",
    "#     rw_effected_edges = []\n",
    "\n",
    "#     for pid, person in population.items():\n",
    "#         current_position = person['at']\n",
    "#         _, rw_edges = random_walk(current_position, person, day)\n",
    "\n",
    "#         if person['state']=='infected':\n",
    "#             rw_effected[pid] = rw_edges\n",
    "#             rw_effected_edges += rw_edges\n",
    "            \n",
    "#             person['incubation_period'] -= 1\n",
    "            \n",
    "#             if person['incubation_period'] == 0:\n",
    "#                 person['end_period'] = np.random.randint(5, 15)\n",
    "#                 person['state'] = 'hospitalised'\n",
    "#                 hospitalised[pid] = person\n",
    "#                 del_pids.append(pid)\n",
    "#         else:\n",
    "#             rw_normal[pid] = rw_edges\n",
    "#             rw_normal_edges += rw_edges\n",
    "            \n",
    "#     for pid, person in hospitalised.items():\n",
    "#         person['end_period'] -= 1\n",
    "        \n",
    "#         if person['end_period'] == 0:\n",
    "#             is_dead_ = is_dead(person)\n",
    "#             if is_dead_:\n",
    "#                 person['state'] = 'dead'\n",
    "#                 dead[pid] = person\n",
    "#             else:\n",
    "#                 person['state'] = 'cured'\n",
    "#                 cured[pid] = person\n",
    "#                 population[pid] = person\n",
    "#             del_hids.append(pid)\n",
    "\n",
    "#     contaminated_paths = Counter(rw_effected_edges)\n",
    "    \n",
    "# #     plot_plot(iter_=day, rw_effected_edges = rw_effected_edges, rw_normal_edges=rw_normal_edges)\n",
    "\n",
    "#     for pid, j in rw_normal.items():\n",
    "#         if population[pid]['state'] == 'free':\n",
    "        \n",
    "#             similar_paths = list(set(j).intersection(set(rw_effected_edges)))\n",
    "\n",
    "#             contamination_probability = sum([contaminated_paths[s] for s in similar_paths])\n",
    "\n",
    "#             denominator = contamination_confidence + contamination_probability\n",
    "#             if np.random.choice([0, 1], p=[contamination_confidence/denominator, contamination_probability/denominator]):\n",
    "#                 effect_person(population[pid])\n",
    "            \n",
    "#     for pid in del_pids:\n",
    "#         del population[pid]\n",
    "        \n",
    "#     for pid in del_hids:\n",
    "#         del hospitalised[pid]\n",
    "        \n",
    "        \n",
    "#     history.append([len(population), get_status(\"free\", True), get_status('infected', True), len(hospitalised), len(cured), len(dead)])\n",
    "        \n",
    "#     print(print_stats(day))"
   ]
  }
 ],
 "metadata": {
  "kernelspec": {
   "display_name": "Python 3",
   "language": "python",
   "name": "python3"
  },
  "language_info": {
   "codemirror_mode": {
    "name": "ipython",
    "version": 3
   },
   "file_extension": ".py",
   "mimetype": "text/x-python",
   "name": "python",
   "nbconvert_exporter": "python",
   "pygments_lexer": "ipython3",
   "version": "3.7.4"
  }
 },
 "nbformat": 4,
 "nbformat_minor": 2
}
