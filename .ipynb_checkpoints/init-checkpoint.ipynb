{
 "cells": [
  {
   "cell_type": "code",
   "execution_count": 1,
   "metadata": {},
   "outputs": [],
   "source": [
    "import random\n",
    "import matplotlib\n",
    "\n",
    "import numpy as np\n",
    "import networkx as nx\n",
    "import matplotlib.pyplot as plt\n",
    "\n",
    "from copy import deepcopy\n",
    "from tqdm import tqdm\n",
    "from collections import Counter\n",
    "from scipy.spatial import distance\n",
    "from sklearn.metrics.pairwise import euclidean_distances\n",
    "from IPython.display import clear_output"
   ]
  },
  {
   "cell_type": "code",
   "execution_count": null,
   "metadata": {},
   "outputs": [],
   "source": []
  },
  {
   "cell_type": "code",
   "execution_count": 2,
   "metadata": {},
   "outputs": [],
   "source": [
    "def print_stats(day):\n",
    "    print(\"day:\", day , \"population:\", len(population), \"infected:\", get_status(), \"quarrentined:\", len(quarrentined), \"probability:\", get_status()/len(population))"
   ]
  },
  {
   "cell_type": "code",
   "execution_count": 3,
   "metadata": {},
   "outputs": [],
   "source": [
    "def gen_rand_coordinates(n):\n",
    "    x = np.random.randint(low=0, high=1.5*n, size=n)\n",
    "    y = np.random.randint(low=0, high=1.5*n, size=n)\n",
    "    \n",
    "    coordinates = [(i, j) for i, j in zip(x, y)]\n",
    "    \n",
    "    return list(set(coordinates)), list(range(len(set(coordinates))))"
   ]
  },
  {
   "cell_type": "code",
   "execution_count": 4,
   "metadata": {},
   "outputs": [],
   "source": [
    "def random_walk(current_position, person):\n",
    "    path = []\n",
    "    edges = []\n",
    "    path.append(deepcopy(current_position))\n",
    "    \n",
    "    percentage = int(len(quarrentined)/2000)\n",
    "    \n",
    "    if person['age']>18 and person['age']<50:\n",
    "        m = 50\n",
    "        m_ = int(m/10)\n",
    "        m = m - (m_*percentage)\n",
    "        n = np.random.randint(0, m)\n",
    "        \n",
    "    else:        \n",
    "        m = 20\n",
    "        m_ = int(m/10)\n",
    "        m = m - (m_*percentage)\n",
    "        n = np.random.randint(0, m)\n",
    "        \n",
    "    for i in range(n):\n",
    "        person_neighbours = neighbours[current_position]\n",
    "        if len(person_neighbours) > 0:\n",
    "            next_position = np.random.choice(person_neighbours)\n",
    "            path.append(next_position)\n",
    "            edges.append((current_position, next_position))\n",
    "            current_position = deepcopy(next_position)\n",
    "    return path, edges"
   ]
  },
  {
   "cell_type": "code",
   "execution_count": 5,
   "metadata": {},
   "outputs": [],
   "source": [
    "def random_sample(data, n):\n",
    "    idx = np.random.randint(low=0, high=len(data), size=n)\n",
    "    return [data[i] for i in idx], idx"
   ]
  },
  {
   "cell_type": "code",
   "execution_count": 6,
   "metadata": {},
   "outputs": [],
   "source": [
    "def get_status(effected=True):\n",
    "    return Counter([p['effected'] for p in population.values()])[effected]"
   ]
  },
  {
   "cell_type": "code",
   "execution_count": 7,
   "metadata": {},
   "outputs": [],
   "source": [
    "def get_p_at(effected=True):\n",
    "    return [p['at'] for p in population.values() if p['effected']]"
   ]
  },
  {
   "cell_type": "code",
   "execution_count": 8,
   "metadata": {},
   "outputs": [],
   "source": [
    "def effect_person(person):\n",
    "    person['effected'] = True\n",
    "    person['incubation_period'] = np.random.randint(low=5, high=10)"
   ]
  },
  {
   "cell_type": "code",
   "execution_count": 9,
   "metadata": {},
   "outputs": [],
   "source": [
    "def plot_plot(rw_normal_edges=None, rw_effected_edges=None, clear=False):\n",
    "    clear_output(wait=clear)\n",
    "    \n",
    "    pop = [p['at'] for i, p in population.items()]\n",
    "    eff = get_p_at()\n",
    "\n",
    "    plt.figure(0, figsize=(16, 11))\n",
    "    \n",
    "    nx.draw_networkx_nodes(G, pos,\n",
    "                           nodelist=pop,\n",
    "                           node_color='blue', node_size=5)\n",
    "\n",
    "    nx.draw_networkx_nodes(G, pos,\n",
    "                           nodelist=eff,\n",
    "                           node_color='r', node_size=50)\n",
    "\n",
    "    nx.draw_networkx_edges(G, pos,\n",
    "                           edgelist=edges,\n",
    "                           width=0.5,alpha=0.3,edge_color='b')\n",
    "\n",
    "    if rw_normal_edges is not None:\n",
    "        nx.draw_networkx_edges(G,pos,\n",
    "                               edgelist=rw_normal_edges,\n",
    "                               width=0.3,alpha=0.3,edge_color='y')\n",
    "\n",
    "        nx.draw_networkx_edges(G,pos,\n",
    "                               edgelist=rw_effected_edges,\n",
    "                               width=3,alpha=0.3,edge_color='red')\n",
    "\n",
    "    nx.draw_networkx(G, pos, node_size=1, with_labels=False)\n",
    "    plt.show()"
   ]
  },
  {
   "cell_type": "code",
   "execution_count": null,
   "metadata": {},
   "outputs": [],
   "source": []
  },
  {
   "cell_type": "code",
   "execution_count": 10,
   "metadata": {},
   "outputs": [],
   "source": [
    "n_days = 100"
   ]
  },
  {
   "cell_type": "code",
   "execution_count": 11,
   "metadata": {},
   "outputs": [],
   "source": [
    "n_nodes = 10000\n",
    "connectivity = 5\n",
    "n_population = n_nodes * 2\n",
    "n_effected_people = 2 #int(n_population/100)\n",
    "\n",
    "contamination_confidence = 100"
   ]
  },
  {
   "cell_type": "code",
   "execution_count": 12,
   "metadata": {},
   "outputs": [],
   "source": [
    "coordinates, coordinates_idx = gen_rand_coordinates(n_nodes)"
   ]
  },
  {
   "cell_type": "code",
   "execution_count": 13,
   "metadata": {},
   "outputs": [],
   "source": [
    "_, p_coord = random_sample(coordinates, n_population)"
   ]
  },
  {
   "cell_type": "code",
   "execution_count": 14,
   "metadata": {},
   "outputs": [],
   "source": [
    "p_ages = np.random.randint(low=2, high=80, size=n_population)"
   ]
  },
  {
   "cell_type": "code",
   "execution_count": 15,
   "metadata": {},
   "outputs": [],
   "source": [
    "population = {i:{'at': j, 'age': k, 'effected': False, 'incubation_period':-1} for i, j, k in zip(range(n_population), p_coord, p_ages)}"
   ]
  },
  {
   "cell_type": "code",
   "execution_count": 16,
   "metadata": {},
   "outputs": [],
   "source": [
    "effected, _ = random_sample(list(population.keys()), n_effected_people)\n",
    "for i in effected:\n",
    "    effect_person(population[i])\n",
    "del effected"
   ]
  },
  {
   "cell_type": "code",
   "execution_count": null,
   "metadata": {},
   "outputs": [],
   "source": []
  },
  {
   "cell_type": "code",
   "execution_count": 17,
   "metadata": {
    "scrolled": false
   },
   "outputs": [
    {
     "name": "stdout",
     "output_type": "stream",
     "text": [
      "0\n",
      "1763\n",
      "3525\n",
      "5303\n",
      "7016\n",
      "8754\n",
      "10480\n",
      "12175\n",
      "13869\n",
      "15555\n",
      "17245\n",
      "18889\n",
      "20514\n",
      "22189\n",
      "23816\n",
      "25472\n",
      "27099\n",
      "28698\n",
      "30324\n",
      "31931\n",
      "33533\n",
      "35103\n",
      "36685\n",
      "38286\n",
      "39831\n",
      "41382\n",
      "42916\n",
      "44428\n",
      "45942\n",
      "47463\n",
      "48987\n"
     ]
    }
   ],
   "source": [
    "edges = []\n",
    "c = np.array(coordinates)\n",
    "while len(set(edges)) < n_nodes * connectivity:\n",
    "    print(len(set(edges)))\n",
    "    t, t_idx = random_sample(c, 1000)\n",
    "    u, u_idx = random_sample(c, 1000)\n",
    "    dist = euclidean_distances(t, u)\n",
    "    for idx, i in enumerate(dist):\n",
    "        a = np.argsort(i)[:2]\n",
    "        edges += [(t_idx[idx], u_idx[j]) for j in a if i[j]<(n_nodes/10) and i[j] != 0]\n",
    "edges = set(edges)"
   ]
  },
  {
   "cell_type": "code",
   "execution_count": 18,
   "metadata": {},
   "outputs": [],
   "source": [
    "neighbours = {i:[] for i in coordinates_idx}\n",
    "for i, j in edges:\n",
    "    neighbours[i] += [j]\n",
    "    neighbours[j] += [i]"
   ]
  },
  {
   "cell_type": "code",
   "execution_count": 19,
   "metadata": {},
   "outputs": [
    {
     "data": {
      "text/plain": [
       "(9997, 20000, 50462, 2)"
      ]
     },
     "execution_count": 19,
     "metadata": {},
     "output_type": "execute_result"
    }
   ],
   "source": [
    "len(coordinates), len(population), len(edges), get_status()"
   ]
  },
  {
   "cell_type": "code",
   "execution_count": null,
   "metadata": {},
   "outputs": [],
   "source": []
  },
  {
   "cell_type": "code",
   "execution_count": 20,
   "metadata": {},
   "outputs": [
    {
     "name": "stderr",
     "output_type": "stream",
     "text": [
      "100%|██████████| 9997/9997 [00:00<00:00, 41512.34it/s]\n"
     ]
    }
   ],
   "source": [
    "G_dash = nx.Graph()\n",
    "for p in tqdm(range(len(coordinates))):\n",
    "    G_dash.add_node(p, pos=[coordinates[p][0], coordinates[p][1]])\n",
    "pos = nx.get_node_attributes(G_dash, 'pos')\n",
    "G = deepcopy(G_dash)"
   ]
  },
  {
   "cell_type": "code",
   "execution_count": null,
   "metadata": {},
   "outputs": [],
   "source": []
  },
  {
   "cell_type": "code",
   "execution_count": 21,
   "metadata": {},
   "outputs": [],
   "source": [
    "quarrentined = {}"
   ]
  },
  {
   "cell_type": "code",
   "execution_count": 22,
   "metadata": {
    "scrolled": false
   },
   "outputs": [
    {
     "name": "stdout",
     "output_type": "stream",
     "text": [
      "day: 0 population: 20000 infected: 2 quarrentined: 0 probability: 0.0001\n",
      "day: 1 population: 20000 infected: 3 quarrentined: 0 probability: 0.00015\n",
      "day: 2 population: 20000 infected: 6 quarrentined: 0 probability: 0.0003\n",
      "day: 3 population: 20000 infected: 6 quarrentined: 0 probability: 0.0003\n",
      "day: 4 population: 20000 infected: 8 quarrentined: 0 probability: 0.0004\n",
      "day: 5 population: 19998 infected: 8 quarrentined: 2 probability: 0.00040004000400040005\n",
      "day: 6 population: 19998 infected: 13 quarrentined: 2 probability: 0.0006500650065006501\n",
      "day: 7 population: 19996 infected: 16 quarrentined: 4 probability: 0.0008001600320064013\n",
      "day: 8 population: 19995 infected: 31 quarrentined: 5 probability: 0.0015503875968992248\n",
      "day: 9 population: 19994 infected: 50 quarrentined: 6 probability: 0.00250075022506752\n",
      "day: 10 population: 19992 infected: 70 quarrentined: 8 probability: 0.0035014005602240898\n",
      "day: 11 population: 19990 infected: 101 quarrentined: 10 probability: 0.005052526263131566\n",
      "day: 12 population: 19988 infected: 168 quarrentined: 12 probability: 0.00840504302581549\n",
      "day: 13 population: 19984 infected: 264 quarrentined: 16 probability: 0.01321056845476381\n",
      "day: 14 population: 19969 infected: 392 quarrentined: 31 probability: 0.01963042716210126\n",
      "day: 15 population: 19953 infected: 538 quarrentined: 47 probability: 0.026963363905177166\n",
      "day: 16 population: 19939 infected: 702 quarrentined: 61 probability: 0.035207382516675864\n",
      "day: 17 population: 19908 infected: 924 quarrentined: 92 probability: 0.046413502109704644\n",
      "day: 18 population: 19864 infected: 1170 quarrentined: 136 probability: 0.058900523560209424\n",
      "day: 19 population: 19796 infected: 1395 quarrentined: 204 probability: 0.07046878157203476\n",
      "day: 20 population: 19695 infected: 1573 quarrentined: 305 probability: 0.07986798679867987\n",
      "day: 21 population: 19558 infected: 1636 quarrentined: 442 probability: 0.0836486348297372\n",
      "day: 22 population: 19381 infected: 1610 quarrentined: 619 probability: 0.08307104896548166\n",
      "day: 23 population: 19172 infected: 1509 quarrentined: 828 probability: 0.07870853327769664\n",
      "day: 24 population: 18921 infected: 1310 quarrentined: 1079 probability: 0.06923524126631785\n",
      "day: 25 population: 18669 infected: 1098 quarrentined: 1331 probability: 0.05881407681182709\n",
      "day: 26 population: 18412 infected: 860 quarrentined: 1588 probability: 0.04670866825983055\n",
      "day: 27 population: 18152 infected: 618 quarrentined: 1848 probability: 0.034045835169678275\n",
      "day: 28 population: 17954 infected: 428 quarrentined: 2046 probability: 0.023838698897181685\n",
      "day: 29 population: 17826 infected: 302 quarrentined: 2174 probability: 0.016941546056322226\n",
      "day: 30 population: 17717 infected: 194 quarrentined: 2283 probability: 0.010949935090590958\n",
      "day: 31 population: 17631 infected: 111 quarrentined: 2369 probability: 0.006295729113493279\n",
      "day: 32 population: 17585 infected: 65 quarrentined: 2415 probability: 0.003696332101222633\n",
      "day: 33 population: 17560 infected: 41 quarrentined: 2440 probability: 0.0023348519362186787\n",
      "day: 34 population: 17539 infected: 20 quarrentined: 2461 probability: 0.0011403158674952961\n",
      "day: 35 population: 17528 infected: 9 quarrentined: 2472 probability: 0.0005134641716111365\n",
      "day: 36 population: 17524 infected: 5 quarrentined: 2476 probability: 0.00028532298561972154\n",
      "day: 37 population: 17523 infected: 4 quarrentined: 2477 probability: 0.00022827141471209268\n",
      "day: 38 population: 17522 infected: 4 quarrentined: 2478 probability: 0.0002282844424152494\n",
      "day: 39 population: 17520 infected: 2 quarrentined: 2480 probability: 0.00011415525114155251\n",
      "day: 40 population: 17520 infected: 2 quarrentined: 2480 probability: 0.00011415525114155251\n",
      "day: 41 population: 17520 infected: 2 quarrentined: 2480 probability: 0.00011415525114155251\n",
      "day: 42 population: 17519 infected: 1 quarrentined: 2481 probability: 5.708088361207832e-05\n",
      "day: 43 population: 17519 infected: 1 quarrentined: 2481 probability: 5.708088361207832e-05\n",
      "day: 44 population: 17518 infected: 0 quarrentined: 2482 probability: 0.0\n",
      "day: 45 population: 17518 infected: 0 quarrentined: 2482 probability: 0.0\n",
      "day: 46 population: 17518 infected: 0 quarrentined: 2482 probability: 0.0\n",
      "day: 47 population: 17518 infected: 0 quarrentined: 2482 probability: 0.0\n",
      "day: 48 population: 17518 infected: 0 quarrentined: 2482 probability: 0.0\n",
      "day: 49 population: 17518 infected: 0 quarrentined: 2482 probability: 0.0\n",
      "day: 50 population: 17518 infected: 0 quarrentined: 2482 probability: 0.0\n",
      "day: 51 population: 17518 infected: 0 quarrentined: 2482 probability: 0.0\n",
      "day: 52 population: 17518 infected: 0 quarrentined: 2482 probability: 0.0\n",
      "day: 53 population: 17518 infected: 0 quarrentined: 2482 probability: 0.0\n",
      "day: 54 population: 17518 infected: 0 quarrentined: 2482 probability: 0.0\n",
      "day: 55 population: 17518 infected: 0 quarrentined: 2482 probability: 0.0\n",
      "day: 56 population: 17518 infected: 0 quarrentined: 2482 probability: 0.0\n",
      "day: 57 population: 17518 infected: 0 quarrentined: 2482 probability: 0.0\n",
      "day: 58 population: 17518 infected: 0 quarrentined: 2482 probability: 0.0\n",
      "day: 59 population: 17518 infected: 0 quarrentined: 2482 probability: 0.0\n",
      "day: 60 population: 17518 infected: 0 quarrentined: 2482 probability: 0.0\n",
      "day: 61 population: 17518 infected: 0 quarrentined: 2482 probability: 0.0\n",
      "day: 62 population: 17518 infected: 0 quarrentined: 2482 probability: 0.0\n",
      "day: 63 population: 17518 infected: 0 quarrentined: 2482 probability: 0.0\n",
      "day: 64 population: 17518 infected: 0 quarrentined: 2482 probability: 0.0\n",
      "day: 65 population: 17518 infected: 0 quarrentined: 2482 probability: 0.0\n",
      "day: 66 population: 17518 infected: 0 quarrentined: 2482 probability: 0.0\n",
      "day: 67 population: 17518 infected: 0 quarrentined: 2482 probability: 0.0\n",
      "day: 68 population: 17518 infected: 0 quarrentined: 2482 probability: 0.0\n",
      "day: 69 population: 17518 infected: 0 quarrentined: 2482 probability: 0.0\n",
      "day: 70 population: 17518 infected: 0 quarrentined: 2482 probability: 0.0\n",
      "day: 71 population: 17518 infected: 0 quarrentined: 2482 probability: 0.0\n",
      "day: 72 population: 17518 infected: 0 quarrentined: 2482 probability: 0.0\n",
      "day: 73 population: 17518 infected: 0 quarrentined: 2482 probability: 0.0\n",
      "day: 74 population: 17518 infected: 0 quarrentined: 2482 probability: 0.0\n",
      "day: 75 population: 17518 infected: 0 quarrentined: 2482 probability: 0.0\n",
      "day: 76 population: 17518 infected: 0 quarrentined: 2482 probability: 0.0\n",
      "day: 77 population: 17518 infected: 0 quarrentined: 2482 probability: 0.0\n",
      "day: 78 population: 17518 infected: 0 quarrentined: 2482 probability: 0.0\n",
      "day: 79 population: 17518 infected: 0 quarrentined: 2482 probability: 0.0\n",
      "day: 80 population: 17518 infected: 0 quarrentined: 2482 probability: 0.0\n",
      "day: 81 population: 17518 infected: 0 quarrentined: 2482 probability: 0.0\n",
      "day: 82 population: 17518 infected: 0 quarrentined: 2482 probability: 0.0\n",
      "day: 83 population: 17518 infected: 0 quarrentined: 2482 probability: 0.0\n",
      "day: 84 population: 17518 infected: 0 quarrentined: 2482 probability: 0.0\n",
      "day: 85 population: 17518 infected: 0 quarrentined: 2482 probability: 0.0\n",
      "day: 86 population: 17518 infected: 0 quarrentined: 2482 probability: 0.0\n",
      "day: 87 population: 17518 infected: 0 quarrentined: 2482 probability: 0.0\n",
      "day: 88 population: 17518 infected: 0 quarrentined: 2482 probability: 0.0\n",
      "day: 89 population: 17518 infected: 0 quarrentined: 2482 probability: 0.0\n",
      "day: 90 population: 17518 infected: 0 quarrentined: 2482 probability: 0.0\n",
      "day: 91 population: 17518 infected: 0 quarrentined: 2482 probability: 0.0\n",
      "day: 92 population: 17518 infected: 0 quarrentined: 2482 probability: 0.0\n",
      "day: 93 population: 17518 infected: 0 quarrentined: 2482 probability: 0.0\n",
      "day: 94 population: 17518 infected: 0 quarrentined: 2482 probability: 0.0\n",
      "day: 95 population: 17518 infected: 0 quarrentined: 2482 probability: 0.0\n",
      "day: 96 population: 17518 infected: 0 quarrentined: 2482 probability: 0.0\n",
      "day: 97 population: 17518 infected: 0 quarrentined: 2482 probability: 0.0\n",
      "day: 98 population: 17518 infected: 0 quarrentined: 2482 probability: 0.0\n",
      "day: 99 population: 17518 infected: 0 quarrentined: 2482 probability: 0.0\n"
     ]
    }
   ],
   "source": [
    "for day in range(n_days):\n",
    "#     plot_plot()\n",
    "\n",
    "    print_stats(day)\n",
    "    \n",
    "    del_pids = []\n",
    "    \n",
    "    rw_normal = {}\n",
    "    rw_effected = {}\n",
    "\n",
    "    rw_normal_edges = []\n",
    "    rw_effected_edges = []\n",
    "\n",
    "    for pid, person in population.items():\n",
    "        current_position = person['at']\n",
    "        _, rw_edges = random_walk(current_position, person)\n",
    "\n",
    "        if person['effected']:\n",
    "            rw_effected[pid] = rw_edges\n",
    "            rw_effected_edges += rw_edges\n",
    "            \n",
    "            person['incubation_period'] -= 1\n",
    "            \n",
    "            if person['incubation_period'] == 0:\n",
    "                quarrentined[pid] = person\n",
    "                del_pids.append(pid)\n",
    "        else:\n",
    "            rw_normal[pid] = rw_edges\n",
    "            rw_normal_edges += rw_edges\n",
    "\n",
    "    contaminated_paths = Counter(rw_effected_edges)\n",
    "\n",
    "    for pid, j in rw_normal.items():\n",
    "        similar_paths = list(set(j).intersection(set(rw_effected_edges)))\n",
    "        \n",
    "        contamination_probability = sum([contaminated_paths[s] for s in similar_paths])\n",
    "\n",
    "        denominator = contamination_confidence + contamination_probability\n",
    "        if np.random.choice([0, 1], p=[contamination_confidence/denominator, contamination_probability/denominator]):\n",
    "            effect_person(population[pid])\n",
    "            \n",
    "    for pid in del_pids:\n",
    "        del population[pid]"
   ]
  },
  {
   "cell_type": "code",
   "execution_count": null,
   "metadata": {},
   "outputs": [],
   "source": []
  },
  {
   "cell_type": "code",
   "execution_count": null,
   "metadata": {},
   "outputs": [],
   "source": []
  },
  {
   "cell_type": "code",
   "execution_count": null,
   "metadata": {},
   "outputs": [],
   "source": []
  },
  {
   "cell_type": "code",
   "execution_count": null,
   "metadata": {},
   "outputs": [],
   "source": []
  },
  {
   "cell_type": "code",
   "execution_count": null,
   "metadata": {},
   "outputs": [],
   "source": []
  },
  {
   "cell_type": "code",
   "execution_count": null,
   "metadata": {},
   "outputs": [],
   "source": []
  },
  {
   "cell_type": "code",
   "execution_count": null,
   "metadata": {},
   "outputs": [],
   "source": []
  },
  {
   "cell_type": "code",
   "execution_count": null,
   "metadata": {},
   "outputs": [],
   "source": []
  },
  {
   "cell_type": "code",
   "execution_count": null,
   "metadata": {},
   "outputs": [],
   "source": []
  },
  {
   "cell_type": "code",
   "execution_count": null,
   "metadata": {},
   "outputs": [],
   "source": []
  }
 ],
 "metadata": {
  "kernelspec": {
   "display_name": "Python 3",
   "language": "python",
   "name": "python3"
  },
  "language_info": {
   "codemirror_mode": {
    "name": "ipython",
    "version": 3
   },
   "file_extension": ".py",
   "mimetype": "text/x-python",
   "name": "python",
   "nbconvert_exporter": "python",
   "pygments_lexer": "ipython3",
   "version": "3.7.4"
  }
 },
 "nbformat": 4,
 "nbformat_minor": 2
}
