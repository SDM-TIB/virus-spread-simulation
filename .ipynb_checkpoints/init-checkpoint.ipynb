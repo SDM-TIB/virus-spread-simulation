{
 "cells": [
  {
   "cell_type": "code",
   "execution_count": null,
   "metadata": {},
   "outputs": [],
   "source": [
    "import random\n",
    "import matplotlib\n",
    "\n",
    "import numpy as np\n",
    "import pandas as pd\n",
    "import networkx as nx\n",
    "import matplotlib.pyplot as plt\n",
    "\n",
    "from copy import deepcopy\n",
    "from tqdm import tqdm\n",
    "from collections import Counter\n",
    "from scipy.spatial import distance\n",
    "from sklearn.metrics.pairwise import euclidean_distances\n",
    "from IPython.display import clear_output"
   ]
  },
  {
   "cell_type": "code",
   "execution_count": null,
   "metadata": {},
   "outputs": [],
   "source": []
  },
  {
   "cell_type": "code",
   "execution_count": null,
   "metadata": {},
   "outputs": [],
   "source": [
    "def print_stats(day):\n",
    "    return \"Day:\" + str(day) + \"\\tP:\" + str(len(population)) + \"\\tS:\" + str(get_status(\"free\", True)) + \"\\tI:\" + str(get_status('infected', True)) + \"\\tH:\" + str(len(hospitalised)) + \"\\tC:\" + str(len(cured)) + \"\\tD:\" + str(len(dead)) + \"\\tprobability:\" + str(round(get_status('infected', True)/len(population), 1)) + \"\\tP+H+D:\" + str(len(population) + len(hospitalised) + len(dead))\n",
    "\n"
   ]
  },
  {
   "cell_type": "code",
   "execution_count": null,
   "metadata": {},
   "outputs": [],
   "source": [
    "def gen_rand_coordinates(n):\n",
    "    x = np.random.randint(low=0, high=2*n, size=n)\n",
    "    y = np.random.randint(low=0, high=2*n, size=n)\n",
    "    \n",
    "    coordinates = [(i, j) for i, j in zip(x, y)]\n",
    "    \n",
    "    return list(set(coordinates)), list(range(len(set(coordinates))))"
   ]
  },
  {
   "cell_type": "code",
   "execution_count": null,
   "metadata": {},
   "outputs": [],
   "source": [
    "def random_walk(current_position, person):\n",
    "    path = []\n",
    "    edges = []\n",
    "    path.append(deepcopy(current_position))\n",
    "    \n",
    "    percentage = 0 #int(len(hospitalised)/2000)\n",
    "    \n",
    "    if person['age']>15 and person['age']<60:\n",
    "        m = 50\n",
    "        m_ = int(m/10)\n",
    "        m = m - (m_*percentage)\n",
    "        n = np.random.randint(0, m)\n",
    "        \n",
    "    else:        \n",
    "        m = 40\n",
    "        m_ = int(m/10)\n",
    "        m = m - (m_*percentage)\n",
    "        n = np.random.randint(0, m)\n",
    "        \n",
    "    for i in range(n):\n",
    "        person_neighbours = neighbours[current_position]\n",
    "        if len(person_neighbours) > 0:\n",
    "            next_position = np.random.choice(person_neighbours)\n",
    "            path.append(next_position)\n",
    "            edges.append((current_position, next_position))\n",
    "            current_position = deepcopy(next_position)\n",
    "    return path, edges"
   ]
  },
  {
   "cell_type": "code",
   "execution_count": null,
   "metadata": {},
   "outputs": [],
   "source": [
    "def random_sample(data, n):\n",
    "    idx = np.random.randint(low=0, high=len(data), size=n)\n",
    "    return [data[i] for i in idx], idx"
   ]
  },
  {
   "cell_type": "code",
   "execution_count": null,
   "metadata": {},
   "outputs": [],
   "source": [
    "def get_status(state, value):\n",
    "    return Counter([p['state']==state for p in population.values()])[value]"
   ]
  },
  {
   "cell_type": "code",
   "execution_count": null,
   "metadata": {},
   "outputs": [],
   "source": [
    "def get_p_at(effected=True):\n",
    "    return [p['at'] for p in population.values() if p['state']=='infected']"
   ]
  },
  {
   "cell_type": "code",
   "execution_count": null,
   "metadata": {},
   "outputs": [],
   "source": [
    "def effect_person(person):\n",
    "    person['state'] = 'infected'\n",
    "    person['incubation_period'] = np.random.randint(low=2, high=12)"
   ]
  },
  {
   "cell_type": "code",
   "execution_count": null,
   "metadata": {},
   "outputs": [],
   "source": [
    "def plot_plot(rw_normal_edges=None, rw_effected_edges=None, clear=False, iter_=0):\n",
    "    clear_output(wait=clear)\n",
    "    \n",
    "    pop = [p['at'] for i, p in population.items()]\n",
    "    eff = get_p_at()\n",
    "\n",
    "    plt.figure(0, figsize=(25, 25))\n",
    "    \n",
    "    nx.draw_networkx_nodes(G, pos,\n",
    "                           nodelist=pop,\n",
    "                           node_color='blue', node_size=5)\n",
    "\n",
    "    nx.draw_networkx_nodes(G, pos,\n",
    "                           nodelist=eff,\n",
    "                           node_color='r', node_size=50)\n",
    "\n",
    "    nx.draw_networkx_edges(G, pos,\n",
    "                           edgelist=edges,\n",
    "                           width=0.3,alpha=0.3,edge_color='b')\n",
    "\n",
    "    if rw_normal_edges is not None:\n",
    "        nx.draw_networkx_edges(G,pos,\n",
    "                               edgelist=rw_normal_edges,\n",
    "                               width=0.5,alpha=0.3,edge_color='y')\n",
    "\n",
    "        nx.draw_networkx_edges(G,pos,\n",
    "                               edgelist=rw_effected_edges,\n",
    "                               width=2,alpha=0.3,edge_color='red')\n",
    "\n",
    "    nx.draw_networkx(G, pos, node_size=1, with_labels=False)\n",
    "    s = \"Day: \"+str(iter_)+\" | Population: \" + str(len(population)) + \" | Infected: \" + str(get_status('infected', True)) + \" | Hospitalised: \" + str(len(hospitalised)) + \" | Infection Probability: \" + str(round(get_status('infected', True)/len(population), 2)) + \" | Cured: \" + str(len(cured)) + \" | Dead: \" + str(len(dead))\n",
    "    plt.title(s, fontsize=20)\n",
    "    plt.savefig(\"image\"+str(iter_)+\".png\", format=\"PNG\")\n",
    "    plt.show()"
   ]
  },
  {
   "cell_type": "code",
   "execution_count": null,
   "metadata": {},
   "outputs": [],
   "source": [
    "def is_dead(p):\n",
    "    \n",
    "    all_probs = []\n",
    "    \n",
    "    for i in p['comorbidities']:\n",
    "        if i in comorbidities_deceased:\n",
    "            k = comorbidities_deceased[i]\n",
    "            ps = np.array([100-k, k])/100\n",
    "            all_probs.append(ps)\n",
    "\n",
    "#     if len(prob_comorbidities) > 1:\n",
    "#         print(prob_comorbidities)\n",
    "#         prob_comorbidities = np.array(prob_comorbidities).sum(1)\n",
    "#         print(prob_comorbidities)\n",
    "\n",
    "#             if np.random.choice([False, True], p=ps):\n",
    "#                 return True\n",
    "\n",
    "    age = p['age']\n",
    "    if age <= 40: #age >= 10 and age \n",
    "        prob = 0.2\n",
    "    elif age >= 40 and age <= 49:\n",
    "        prob = 0.4\n",
    "    elif age >= 50 and age <= 59:\n",
    "        prob = 1.3\n",
    "    elif age >= 60 and age <= 69:\n",
    "        prob = 3.6\n",
    "    elif age >= 70 and age <= 79:\n",
    "        prob = 8.0\n",
    "    elif age >= 80:\n",
    "        prob = 14.8\n",
    "\n",
    "    all_probs.append(np.array([100-prob, prob])/100)\n",
    "    \n",
    "    prob_n_comorbidities = n_comorbidities_deceased[p['n_comorbidities']]\n",
    "    all_probs.append(np.array([1-prob_n_comorbidities, prob_n_comorbidities]))\n",
    "    \n",
    "    master_prob = np.array(all_probs).mean(0)\n",
    "\n",
    "#     prob_age = np.random.choice([False, True], p=prob_/100)\n",
    "#     prob_comorbidities = np.random.choice([False, True], p=[1-n, n])\n",
    "\n",
    "#     print(prob_age, prob_comorbidities, master_prob)\n",
    "\n",
    "    master_prob_decision = np.random.choice([False, True], p=master_prob)\n",
    "    \n",
    "    if master_prob_decision:\n",
    "        return True\n",
    "    return False"
   ]
  },
  {
   "cell_type": "code",
   "execution_count": null,
   "metadata": {},
   "outputs": [],
   "source": []
  },
  {
   "cell_type": "code",
   "execution_count": null,
   "metadata": {},
   "outputs": [],
   "source": [
    "n_days = 100"
   ]
  },
  {
   "cell_type": "code",
   "execution_count": null,
   "metadata": {},
   "outputs": [],
   "source": [
    "n_nodes = 10000\n",
    "connectivity = 5\n",
    "n_population = n_nodes * 2\n",
    "n_effected_people = 2 #int(n_population/100)\n",
    "\n",
    "contamination_confidence = 100"
   ]
  },
  {
   "cell_type": "code",
   "execution_count": null,
   "metadata": {},
   "outputs": [],
   "source": [
    "coordinates, coordinates_idx = gen_rand_coordinates(n_nodes)"
   ]
  },
  {
   "cell_type": "code",
   "execution_count": null,
   "metadata": {},
   "outputs": [],
   "source": [
    "_, p_coord = random_sample(coordinates, n_population)"
   ]
  },
  {
   "cell_type": "code",
   "execution_count": null,
   "metadata": {},
   "outputs": [],
   "source": [
    "# p_ages = np.random.randint(low=2, high=80, size=n_population)"
   ]
  },
  {
   "cell_type": "code",
   "execution_count": null,
   "metadata": {},
   "outputs": [],
   "source": [
    "### Germany\n",
    "\n",
    "# 0-14 years: 12.83% (male 5,299,798 /female 5,024,184)\n",
    "# 15-24 years: 9.98% (male 4,092,901 /female 3,933,997)\n",
    "# 25-54 years: 39.87% (male 16,181,931 /female 15,896,528)\n",
    "# 55-64 years: 14.96% (male 5,989,111 /female 6,047,449)\n",
    "# 65 years and over: 22.36% (male 7,930,590 /female 10,061,248) (2018 est.)"
   ]
  },
  {
   "cell_type": "code",
   "execution_count": null,
   "metadata": {},
   "outputs": [],
   "source": []
  },
  {
   "cell_type": "code",
   "execution_count": null,
   "metadata": {},
   "outputs": [],
   "source": [
    "# Diseases N %\n",
    "# schemic heart disease 145 30.1\n",
    "# Atrial Fibrillation 106 22.0\n",
    "# Stroke 54 11.2\n",
    "# Hypertension 355 73.8\n",
    "# Diabetes 163 33.9\n",
    "# Dementia 57 11.9\n",
    "# COPD 66 13.7\n",
    "# Active cancer in the past 5 years 94 19.5\n",
    "# Chronic liver disease 18 3.7\n",
    "# Chronic renal failure 97 20.2"
   ]
  },
  {
   "cell_type": "code",
   "execution_count": null,
   "metadata": {},
   "outputs": [],
   "source": [
    "comorbidities_deceased = {'Congestive Heart Failure': 30.1, 'Stroke': 11.2, 'Hypertension': 73.8,\n",
    "                         'Diabetes Mellitus': 33.9, 'Dementia': 11.9, 'Respiratory Disease': 13.7}"
   ]
  },
  {
   "cell_type": "code",
   "execution_count": null,
   "metadata": {},
   "outputs": [],
   "source": []
  },
  {
   "cell_type": "code",
   "execution_count": null,
   "metadata": {},
   "outputs": [],
   "source": [
    "#  0 comorbidities 6 1.2\n",
    "#  1 comorbidity 113 23.5\n",
    "#  2 comorbidities 128 26.6\n",
    "#  3 comorbidities and over 234 48.6"
   ]
  },
  {
   "cell_type": "code",
   "execution_count": null,
   "metadata": {},
   "outputs": [],
   "source": [
    "n_comorbidities_deceased = np.array([1.3, 23.5, 26.6, 48.6])"
   ]
  },
  {
   "cell_type": "code",
   "execution_count": null,
   "metadata": {},
   "outputs": [],
   "source": [
    "n_comorbidities_deceased = n_comorbidities_deceased/n_comorbidities_deceased.sum()"
   ]
  },
  {
   "cell_type": "code",
   "execution_count": null,
   "metadata": {},
   "outputs": [],
   "source": []
  },
  {
   "cell_type": "code",
   "execution_count": null,
   "metadata": {},
   "outputs": [],
   "source": [
    "age_dist = np.array([12.83, 9.98, 39.87, 14.96, 22.36])"
   ]
  },
  {
   "cell_type": "code",
   "execution_count": null,
   "metadata": {},
   "outputs": [],
   "source": [
    "p_ages = []\n",
    "p_n_comorbidities = []\n",
    "\n",
    "for i in range(n_population):\n",
    "    age_dist_sampled = np.random.choice([0, 1, 2, 3, 4], p=age_dist/100)\n",
    "    \n",
    "    if age_dist_sampled == 0:\n",
    "        age_sampled = np.random.randint(low=0, high=14)\n",
    "        comorbiditiy_sampled = 0 #np.random.choice([0, 1, 2, 3], p=[0.90, 0.05, 0.03, 0.02])\n",
    "        \n",
    "    elif age_dist_sampled == 1:\n",
    "        age_sampled = np.random.randint(low=15, high=24)\n",
    "        comorbiditiy_sampled = np.random.choice([0, 1, 2, 3], p=[0.80, 0.10, 0.06, 0.04])\n",
    "        \n",
    "    elif age_dist_sampled == 2:\n",
    "        age_sampled = np.random.randint(low=25, high=54)\n",
    "        comorbiditiy_sampled = np.random.choice([0, 1, 2, 3], p=[0.60, 0.20, 0.10, 0.10])\n",
    "        \n",
    "    elif age_dist_sampled == 3:\n",
    "        age_sampled = np.random.randint(low=55, high=64)\n",
    "        comorbiditiy_sampled = np.random.choice([0, 1, 2, 3], p=[0.40, 0.30, 0.15, 0.15])\n",
    "        \n",
    "    elif age_dist_sampled == 4:\n",
    "        age_sampled = np.random.randint(low=65, high=100)\n",
    "        comorbiditiy_sampled = np.random.choice([0, 1, 2, 3], p=[0.30, 0.30, 0.20, 0.20])\n",
    "        \n",
    "    p_ages.append(age_sampled)\n",
    "    p_n_comorbidities.append(comorbiditiy_sampled)"
   ]
  },
  {
   "cell_type": "code",
   "execution_count": null,
   "metadata": {},
   "outputs": [],
   "source": [
    "pd.DataFrame(p_ages).hist(bins=50)"
   ]
  },
  {
   "cell_type": "code",
   "execution_count": null,
   "metadata": {
    "scrolled": true
   },
   "outputs": [],
   "source": [
    "k = pd.DataFrame([(np.array(p_ages)/10).astype(int), p_n_comorbidities]).T\n",
    "\n",
    "for i in range(10):\n",
    "    k[k[0]==i][1].hist()\n",
    "    plt.title(\"age group:\"+str(i)+\" | total: \" + str(k[k[0]==i].shape[0]))\n",
    "    plt.show()"
   ]
  },
  {
   "cell_type": "code",
   "execution_count": null,
   "metadata": {},
   "outputs": [],
   "source": []
  },
  {
   "cell_type": "code",
   "execution_count": null,
   "metadata": {},
   "outputs": [],
   "source": [
    "age_comorbidities = pd.read_csv(\"age_comorbitidites.csv\")"
   ]
  },
  {
   "cell_type": "code",
   "execution_count": null,
   "metadata": {},
   "outputs": [],
   "source": [
    "age_comorbidities.iloc[:, 1] = age_comorbidities.iloc[:, 1]/np.sum(age_comorbidities.iloc[:, 1])\n",
    "age_comorbidities.iloc[:, 2] = age_comorbidities.iloc[:, 2]/np.sum(age_comorbidities.iloc[:, 2])\n",
    "age_comorbidities.iloc[:, 3] = age_comorbidities.iloc[:, 3]/np.sum(age_comorbidities.iloc[:, 3])\n",
    "age_comorbidities.iloc[:, 4] = age_comorbidities.iloc[:, 4]/np.sum(age_comorbidities.iloc[:, 4])"
   ]
  },
  {
   "cell_type": "code",
   "execution_count": null,
   "metadata": {},
   "outputs": [],
   "source": [
    "comorbidities = age_comorbidities.iloc[:, 0]"
   ]
  },
  {
   "cell_type": "code",
   "execution_count": null,
   "metadata": {},
   "outputs": [],
   "source": [
    "age_comorbidities.head()"
   ]
  },
  {
   "cell_type": "code",
   "execution_count": null,
   "metadata": {},
   "outputs": [],
   "source": []
  },
  {
   "cell_type": "code",
   "execution_count": null,
   "metadata": {},
   "outputs": [],
   "source": [
    "p_comorbidities = []\n",
    "\n",
    "for i, j in zip(p_ages, p_n_comorbidities):\n",
    "    c = []\n",
    "    if i < 18:\n",
    "        c = []\n",
    "    elif i >= 18 and i <= 53:\n",
    "        c = np.random.choice(comorbidities, p=age_comorbidities.iloc[:, 1], size=j, replace=False)\n",
    "    elif i >= 54 and i <= 64:\n",
    "        c = np.random.choice(comorbidities, p=age_comorbidities.iloc[:, 2], size=j, replace=False)\n",
    "    elif i >= 65 and i <= 73:\n",
    "        c = np.random.choice(comorbidities, p=age_comorbidities.iloc[:, 3], size=j, replace=False)\n",
    "    elif i >= 74:\n",
    "        c = np.random.choice(comorbidities, p=age_comorbidities.iloc[:, 4], size=j, replace=False)\n",
    "    p_comorbidities.append(list(c))"
   ]
  },
  {
   "cell_type": "code",
   "execution_count": null,
   "metadata": {},
   "outputs": [],
   "source": []
  },
  {
   "cell_type": "code",
   "execution_count": null,
   "metadata": {},
   "outputs": [],
   "source": [
    "population = {i:{'at': j, 'age': k, 'state': 'free', \n",
    "                 'incubation_period':-1, 'comorbidities': m, 'n_comorbidities':l}\n",
    "              for i, j, k, l, m in zip(range(n_population), p_coord, p_ages, p_n_comorbidities, p_comorbidities)}"
   ]
  },
  {
   "cell_type": "code",
   "execution_count": null,
   "metadata": {},
   "outputs": [],
   "source": []
  },
  {
   "cell_type": "code",
   "execution_count": null,
   "metadata": {},
   "outputs": [],
   "source": [
    "effected, _ = random_sample(list(population.keys()), n_effected_people)\n",
    "for i in effected:\n",
    "    effect_person(population[i])\n",
    "del effected"
   ]
  },
  {
   "cell_type": "code",
   "execution_count": null,
   "metadata": {},
   "outputs": [],
   "source": []
  },
  {
   "cell_type": "code",
   "execution_count": null,
   "metadata": {
    "scrolled": true
   },
   "outputs": [],
   "source": [
    "edges = []\n",
    "c = np.array(coordinates)\n",
    "while len(set(edges)) < n_nodes * connectivity:\n",
    "    print(len(set(edges)))\n",
    "    t, t_idx = random_sample(c, 1000)\n",
    "    u, u_idx = random_sample(c, 1000)\n",
    "    dist = euclidean_distances(t, u)\n",
    "    for idx, i in enumerate(dist):\n",
    "        a = np.argsort(i)[:2]\n",
    "        edges += [(t_idx[idx], u_idx[j]) for j in a if i[j]<(n_nodes/10) and i[j] != 0]\n",
    "edges = set(edges)"
   ]
  },
  {
   "cell_type": "code",
   "execution_count": null,
   "metadata": {},
   "outputs": [],
   "source": [
    "neighbours = {i:[] for i in coordinates_idx}\n",
    "for i, j in edges:\n",
    "    neighbours[i] += [j]\n",
    "    neighbours[j] += [i]"
   ]
  },
  {
   "cell_type": "code",
   "execution_count": null,
   "metadata": {},
   "outputs": [],
   "source": [
    "len(coordinates), len(population), len(edges), get_status('infected', True)"
   ]
  },
  {
   "cell_type": "code",
   "execution_count": null,
   "metadata": {},
   "outputs": [],
   "source": []
  },
  {
   "cell_type": "code",
   "execution_count": null,
   "metadata": {},
   "outputs": [],
   "source": [
    "G_dash = nx.Graph()\n",
    "for p in tqdm(range(len(coordinates))):\n",
    "    G_dash.add_node(p, pos=[coordinates[p][0], coordinates[p][1]])\n",
    "pos = nx.get_node_attributes(G_dash, 'pos')\n",
    "G = deepcopy(G_dash)"
   ]
  },
  {
   "cell_type": "code",
   "execution_count": null,
   "metadata": {},
   "outputs": [],
   "source": []
  },
  {
   "cell_type": "code",
   "execution_count": null,
   "metadata": {},
   "outputs": [],
   "source": [
    "hospitalised, cured, dead = {}, {}, {}"
   ]
  },
  {
   "cell_type": "code",
   "execution_count": null,
   "metadata": {
    "scrolled": false
   },
   "outputs": [],
   "source": [
    "for day in range(n_days):\n",
    "\n",
    "#     print(print_stats(day))\n",
    "\n",
    "    del_pids, del_hids = [], []\n",
    "    \n",
    "    rw_normal = {}\n",
    "    rw_effected = {}\n",
    "\n",
    "    rw_normal_edges = []\n",
    "    rw_effected_edges = []\n",
    "\n",
    "    for pid, person in population.items():\n",
    "        current_position = person['at']\n",
    "        _, rw_edges = random_walk(current_position, person)\n",
    "\n",
    "        if person['state']=='infected':\n",
    "            rw_effected[pid] = rw_edges\n",
    "            rw_effected_edges += rw_edges\n",
    "            \n",
    "            person['incubation_period'] -= 1\n",
    "            \n",
    "            if person['incubation_period'] == 0:\n",
    "                person['end_period'] = np.random.randint(5, 15)\n",
    "                person['state'] = 'hospitalised'\n",
    "                hospitalised[pid] = person\n",
    "                del_pids.append(pid)\n",
    "        else:\n",
    "            rw_normal[pid] = rw_edges\n",
    "            rw_normal_edges += rw_edges\n",
    "            \n",
    "    for pid, person in hospitalised.items():\n",
    "        person['end_period'] -= 1\n",
    "        \n",
    "        if person['end_period'] == 0:\n",
    "            is_dead_ = is_dead(person)\n",
    "            if is_dead_:\n",
    "                person['state'] = 'dead'\n",
    "                dead[pid] = person\n",
    "            else:\n",
    "                person['state'] = 'cured'\n",
    "                cured[pid] = person\n",
    "                population[pid] = person\n",
    "            del_hids.append(pid)\n",
    "\n",
    "    contaminated_paths = Counter(rw_effected_edges)\n",
    "    \n",
    "#     plot_plot(iter_=day, rw_effected_edges = rw_effected_edges, rw_normal_edges=rw_normal_edges)\n",
    "\n",
    "    for pid, j in rw_normal.items():\n",
    "        if population[pid]['state'] == 'free':\n",
    "        \n",
    "            similar_paths = list(set(j).intersection(set(rw_effected_edges)))\n",
    "\n",
    "            contamination_probability = sum([contaminated_paths[s] for s in similar_paths])\n",
    "\n",
    "            denominator = contamination_confidence + contamination_probability\n",
    "            if np.random.choice([0, 1], p=[contamination_confidence/denominator, contamination_probability/denominator]):\n",
    "                effect_person(population[pid])\n",
    "            \n",
    "    for pid in del_pids:\n",
    "        del population[pid]\n",
    "        \n",
    "    for pid in del_hids:\n",
    "        del hospitalised[pid]\n",
    "        \n",
    "    print(print_stats(day))"
   ]
  },
  {
   "cell_type": "code",
   "execution_count": null,
   "metadata": {},
   "outputs": [],
   "source": []
  },
  {
   "cell_type": "code",
   "execution_count": null,
   "metadata": {},
   "outputs": [],
   "source": []
  },
  {
   "cell_type": "code",
   "execution_count": null,
   "metadata": {},
   "outputs": [],
   "source": []
  },
  {
   "cell_type": "code",
   "execution_count": null,
   "metadata": {},
   "outputs": [],
   "source": []
  },
  {
   "cell_type": "code",
   "execution_count": null,
   "metadata": {},
   "outputs": [],
   "source": []
  },
  {
   "cell_type": "code",
   "execution_count": null,
   "metadata": {},
   "outputs": [],
   "source": []
  },
  {
   "cell_type": "code",
   "execution_count": null,
   "metadata": {},
   "outputs": [],
   "source": []
  },
  {
   "cell_type": "code",
   "execution_count": null,
   "metadata": {},
   "outputs": [],
   "source": []
  },
  {
   "cell_type": "code",
   "execution_count": null,
   "metadata": {},
   "outputs": [],
   "source": []
  },
  {
   "cell_type": "code",
   "execution_count": null,
   "metadata": {},
   "outputs": [],
   "source": []
  },
  {
   "cell_type": "code",
   "execution_count": null,
   "metadata": {},
   "outputs": [],
   "source": []
  },
  {
   "cell_type": "code",
   "execution_count": null,
   "metadata": {},
   "outputs": [],
   "source": []
  },
  {
   "cell_type": "code",
   "execution_count": null,
   "metadata": {},
   "outputs": [],
   "source": []
  }
 ],
 "metadata": {
  "kernelspec": {
   "display_name": "Python 3",
   "language": "python",
   "name": "python3"
  },
  "language_info": {
   "codemirror_mode": {
    "name": "ipython",
    "version": 3
   },
   "file_extension": ".py",
   "mimetype": "text/x-python",
   "name": "python",
   "nbconvert_exporter": "python",
   "pygments_lexer": "ipython3",
   "version": "3.7.4"
  }
 },
 "nbformat": 4,
 "nbformat_minor": 2
}
