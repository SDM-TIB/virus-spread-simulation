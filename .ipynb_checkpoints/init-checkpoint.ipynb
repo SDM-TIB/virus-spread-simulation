{
 "cells": [
  {
   "cell_type": "code",
   "execution_count": 1,
   "metadata": {},
   "outputs": [],
   "source": [
    "import random\n",
    "import matplotlib\n",
    "\n",
    "import numpy as np\n",
    "import networkx as nx\n",
    "import matplotlib.pyplot as plt\n",
    "\n",
    "from copy import deepcopy\n",
    "from tqdm import tqdm\n",
    "from collections import Counter\n",
    "from scipy.spatial import distance\n",
    "from sklearn.metrics.pairwise import euclidean_distances\n",
    "from IPython.display import clear_output"
   ]
  },
  {
   "cell_type": "code",
   "execution_count": null,
   "metadata": {},
   "outputs": [],
   "source": []
  },
  {
   "cell_type": "code",
   "execution_count": 2,
   "metadata": {},
   "outputs": [],
   "source": [
    "def print_stats(day):\n",
    "    return \"day:\", day , \"population:\", len(population), \"infected:\", get_status(), \"quarrentined:\", len(quarrentined), \"probability:\", get_status()/len(population)"
   ]
  },
  {
   "cell_type": "code",
   "execution_count": 3,
   "metadata": {},
   "outputs": [],
   "source": [
    "def gen_rand_coordinates(n):\n",
    "    x = np.random.randint(low=0, high=2*n, size=n)\n",
    "    y = np.random.randint(low=0, high=2*n, size=n)\n",
    "    \n",
    "    coordinates = [(i, j) for i, j in zip(x, y)]\n",
    "    \n",
    "    return list(set(coordinates)), list(range(len(set(coordinates))))"
   ]
  },
  {
   "cell_type": "code",
   "execution_count": 4,
   "metadata": {},
   "outputs": [],
   "source": [
    "def random_walk(current_position, person):\n",
    "    path = []\n",
    "    edges = []\n",
    "    path.append(deepcopy(current_position))\n",
    "    \n",
    "    percentage = int(len(quarrentined)/2000)\n",
    "    \n",
    "    if person['age']>18 and person['age']<50:\n",
    "        m = 50\n",
    "        m_ = int(m/10)\n",
    "        m = m - (m_*percentage)\n",
    "        n = np.random.randint(0, m)\n",
    "        \n",
    "    else:        \n",
    "        m = 20\n",
    "        m_ = int(m/10)\n",
    "        m = m - (m_*percentage)\n",
    "        n = np.random.randint(0, m)\n",
    "        \n",
    "    for i in range(n):\n",
    "        person_neighbours = neighbours[current_position]\n",
    "        if len(person_neighbours) > 0:\n",
    "            next_position = np.random.choice(person_neighbours)\n",
    "            path.append(next_position)\n",
    "            edges.append((current_position, next_position))\n",
    "            current_position = deepcopy(next_position)\n",
    "    return path, edges"
   ]
  },
  {
   "cell_type": "code",
   "execution_count": 5,
   "metadata": {},
   "outputs": [],
   "source": [
    "def random_sample(data, n):\n",
    "    idx = np.random.randint(low=0, high=len(data), size=n)\n",
    "    return [data[i] for i in idx], idx"
   ]
  },
  {
   "cell_type": "code",
   "execution_count": 6,
   "metadata": {},
   "outputs": [],
   "source": [
    "def get_status(effected=True):\n",
    "    return Counter([p['effected'] for p in population.values()])[effected]"
   ]
  },
  {
   "cell_type": "code",
   "execution_count": 7,
   "metadata": {},
   "outputs": [],
   "source": [
    "def get_p_at(effected=True):\n",
    "    return [p['at'] for p in population.values() if p['effected']]"
   ]
  },
  {
   "cell_type": "code",
   "execution_count": 8,
   "metadata": {},
   "outputs": [],
   "source": [
    "def effect_person(person):\n",
    "    person['effected'] = True\n",
    "    person['incubation_period'] = np.random.randint(low=5, high=10)"
   ]
  },
  {
   "cell_type": "code",
   "execution_count": 9,
   "metadata": {},
   "outputs": [],
   "source": [
    "def plot_plot(rw_normal_edges=None, rw_effected_edges=None, clear=False, iter_=0):\n",
    "    clear_output(wait=clear)\n",
    "    \n",
    "    pop = [p['at'] for i, p in population.items()]\n",
    "    eff = get_p_at()\n",
    "\n",
    "    plt.figure(0, figsize=(25, 25))\n",
    "    \n",
    "    nx.draw_networkx_nodes(G, pos,\n",
    "                           nodelist=pop,\n",
    "                           node_color='blue', node_size=5)\n",
    "\n",
    "    nx.draw_networkx_nodes(G, pos,\n",
    "                           nodelist=eff,\n",
    "                           node_color='r', node_size=50)\n",
    "\n",
    "    nx.draw_networkx_edges(G, pos,\n",
    "                           edgelist=edges,\n",
    "                           width=0.3,alpha=0.3,edge_color='b')\n",
    "\n",
    "    if rw_normal_edges is not None:\n",
    "        nx.draw_networkx_edges(G,pos,\n",
    "                               edgelist=rw_normal_edges,\n",
    "                               width=0.5,alpha=0.3,edge_color='y')\n",
    "\n",
    "        nx.draw_networkx_edges(G,pos,\n",
    "                               edgelist=rw_effected_edges,\n",
    "                               width=2,alpha=0.3,edge_color='red')\n",
    "\n",
    "    nx.draw_networkx(G, pos, node_size=1, with_labels=False)\n",
    "    s = \"Day: \"+str(iter_)+\" | Population: \" + str(len(population)) + \" | Infected: \" + str(get_status()) + \" | Quarrentined: \" + str(len(quarrentined)) + \" | Infection Probability: \" + str(round(get_status()/len(population), 2))\n",
    "    plt.title(s, fontsize=40)\n",
    "    plt.savefig(\"image\"+str(iter_)+\".png\", format=\"PNG\")\n",
    "    plt.show()"
   ]
  },
  {
   "cell_type": "code",
   "execution_count": null,
   "metadata": {},
   "outputs": [],
   "source": []
  },
  {
   "cell_type": "code",
   "execution_count": 10,
   "metadata": {},
   "outputs": [],
   "source": [
    "n_days = 100"
   ]
  },
  {
   "cell_type": "code",
   "execution_count": 11,
   "metadata": {},
   "outputs": [],
   "source": [
    "n_nodes = 5000\n",
    "connectivity = 5\n",
    "n_population = n_nodes * 2\n",
    "n_effected_people = 2 #int(n_population/100)\n",
    "\n",
    "contamination_confidence = 100"
   ]
  },
  {
   "cell_type": "code",
   "execution_count": 12,
   "metadata": {},
   "outputs": [],
   "source": [
    "coordinates, coordinates_idx = gen_rand_coordinates(n_nodes)"
   ]
  },
  {
   "cell_type": "code",
   "execution_count": 13,
   "metadata": {},
   "outputs": [],
   "source": [
    "_, p_coord = random_sample(coordinates, n_population)"
   ]
  },
  {
   "cell_type": "code",
   "execution_count": 14,
   "metadata": {},
   "outputs": [],
   "source": [
    "p_ages = np.random.randint(low=2, high=80, size=n_population)"
   ]
  },
  {
   "cell_type": "code",
   "execution_count": 15,
   "metadata": {},
   "outputs": [],
   "source": [
    "population = {i:{'at': j, 'age': k, 'effected': False, 'incubation_period':-1} for i, j, k in zip(range(n_population), p_coord, p_ages)}"
   ]
  },
  {
   "cell_type": "code",
   "execution_count": 16,
   "metadata": {},
   "outputs": [],
   "source": [
    "effected, _ = random_sample(list(population.keys()), n_effected_people)\n",
    "for i in effected:\n",
    "    effect_person(population[i])\n",
    "del effected"
   ]
  },
  {
   "cell_type": "code",
   "execution_count": null,
   "metadata": {},
   "outputs": [],
   "source": []
  },
  {
   "cell_type": "code",
   "execution_count": 17,
   "metadata": {
    "scrolled": true
   },
   "outputs": [
    {
     "name": "stdout",
     "output_type": "stream",
     "text": [
      "0\n",
      "1538\n",
      "3039\n",
      "4512\n",
      "5955\n",
      "7393\n",
      "8826\n",
      "10179\n",
      "11503\n",
      "12793\n",
      "14101\n",
      "15374\n",
      "16600\n",
      "17799\n",
      "18979\n",
      "20188\n",
      "21332\n",
      "22458\n",
      "23570\n",
      "24707\n"
     ]
    }
   ],
   "source": [
    "edges = []\n",
    "c = np.array(coordinates)\n",
    "while len(set(edges)) < n_nodes * connectivity:\n",
    "    print(len(set(edges)))\n",
    "    t, t_idx = random_sample(c, 1000)\n",
    "    u, u_idx = random_sample(c, 1000)\n",
    "    dist = euclidean_distances(t, u)\n",
    "    for idx, i in enumerate(dist):\n",
    "        a = np.argsort(i)[:2]\n",
    "        edges += [(t_idx[idx], u_idx[j]) for j in a if i[j]<(n_nodes/10) and i[j] != 0]\n",
    "edges = set(edges)"
   ]
  },
  {
   "cell_type": "code",
   "execution_count": 18,
   "metadata": {},
   "outputs": [],
   "source": [
    "neighbours = {i:[] for i in coordinates_idx}\n",
    "for i, j in edges:\n",
    "    neighbours[i] += [j]\n",
    "    neighbours[j] += [i]"
   ]
  },
  {
   "cell_type": "code",
   "execution_count": 19,
   "metadata": {},
   "outputs": [
    {
     "data": {
      "text/plain": [
       "(5000, 10000, 25762, 2)"
      ]
     },
     "execution_count": 19,
     "metadata": {},
     "output_type": "execute_result"
    }
   ],
   "source": [
    "len(coordinates), len(population), len(edges), get_status()"
   ]
  },
  {
   "cell_type": "code",
   "execution_count": null,
   "metadata": {},
   "outputs": [],
   "source": []
  },
  {
   "cell_type": "code",
   "execution_count": 20,
   "metadata": {},
   "outputs": [
    {
     "name": "stderr",
     "output_type": "stream",
     "text": [
      "100%|██████████| 5000/5000 [00:00<00:00, 207813.70it/s]\n"
     ]
    }
   ],
   "source": [
    "G_dash = nx.Graph()\n",
    "for p in tqdm(range(len(coordinates))):\n",
    "    G_dash.add_node(p, pos=[coordinates[p][0], coordinates[p][1]])\n",
    "pos = nx.get_node_attributes(G_dash, 'pos')\n",
    "G = deepcopy(G_dash)"
   ]
  },
  {
   "cell_type": "code",
   "execution_count": null,
   "metadata": {},
   "outputs": [],
   "source": []
  },
  {
   "cell_type": "code",
   "execution_count": 21,
   "metadata": {},
   "outputs": [],
   "source": [
    "quarrentined = {}"
   ]
  },
  {
   "cell_type": "code",
   "execution_count": null,
   "metadata": {
    "scrolled": false
   },
   "outputs": [],
   "source": [
    "for day in range(n_days):\n",
    "\n",
    "    print_stats(day)\n",
    "    \n",
    "    del_pids = []\n",
    "    \n",
    "    rw_normal = {}\n",
    "    rw_effected = {}\n",
    "\n",
    "    rw_normal_edges = []\n",
    "    rw_effected_edges = []\n",
    "\n",
    "    for pid, person in population.items():\n",
    "        current_position = person['at']\n",
    "        _, rw_edges = random_walk(current_position, person)\n",
    "\n",
    "        if person['effected']:\n",
    "            rw_effected[pid] = rw_edges\n",
    "            rw_effected_edges += rw_edges\n",
    "            \n",
    "            person['incubation_period'] -= 1\n",
    "            \n",
    "            if person['incubation_period'] == 0:\n",
    "                quarrentined[pid] = person\n",
    "                del_pids.append(pid)\n",
    "        else:\n",
    "            rw_normal[pid] = rw_edges\n",
    "            rw_normal_edges += rw_edges\n",
    "\n",
    "    contaminated_paths = Counter(rw_effected_edges)\n",
    "    \n",
    "    plot_plot(iter_=day, rw_effected_edges = rw_effected_edges, rw_normal_edges=rw_normal_edges)\n",
    "\n",
    "    for pid, j in rw_normal.items():\n",
    "        similar_paths = list(set(j).intersection(set(rw_effected_edges)))\n",
    "        \n",
    "        contamination_probability = sum([contaminated_paths[s] for s in similar_paths])\n",
    "\n",
    "        denominator = contamination_confidence + contamination_probability\n",
    "        if np.random.choice([0, 1], p=[contamination_confidence/denominator, contamination_probability/denominator]):\n",
    "            effect_person(population[pid])\n",
    "            \n",
    "    for pid in del_pids:\n",
    "        del population[pid]"
   ]
  },
  {
   "cell_type": "code",
   "execution_count": null,
   "metadata": {},
   "outputs": [],
   "source": []
  },
  {
   "cell_type": "code",
   "execution_count": null,
   "metadata": {},
   "outputs": [],
   "source": []
  },
  {
   "cell_type": "code",
   "execution_count": null,
   "metadata": {},
   "outputs": [],
   "source": []
  },
  {
   "cell_type": "code",
   "execution_count": null,
   "metadata": {},
   "outputs": [],
   "source": []
  },
  {
   "cell_type": "code",
   "execution_count": null,
   "metadata": {},
   "outputs": [],
   "source": []
  },
  {
   "cell_type": "code",
   "execution_count": null,
   "metadata": {},
   "outputs": [],
   "source": []
  },
  {
   "cell_type": "code",
   "execution_count": null,
   "metadata": {},
   "outputs": [],
   "source": []
  },
  {
   "cell_type": "code",
   "execution_count": null,
   "metadata": {},
   "outputs": [],
   "source": []
  },
  {
   "cell_type": "code",
   "execution_count": null,
   "metadata": {},
   "outputs": [],
   "source": []
  },
  {
   "cell_type": "code",
   "execution_count": null,
   "metadata": {},
   "outputs": [],
   "source": []
  }
 ],
 "metadata": {
  "kernelspec": {
   "display_name": "Python 3",
   "language": "python",
   "name": "python3"
  },
  "language_info": {
   "codemirror_mode": {
    "name": "ipython",
    "version": 3
   },
   "file_extension": ".py",
   "mimetype": "text/x-python",
   "name": "python",
   "nbconvert_exporter": "python",
   "pygments_lexer": "ipython3",
   "version": "3.7.4"
  }
 },
 "nbformat": 4,
 "nbformat_minor": 2
}
